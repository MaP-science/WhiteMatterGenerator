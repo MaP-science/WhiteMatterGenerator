{
 "cells": [
  {
   "cell_type": "code",
   "execution_count": 1,
   "metadata": {},
   "outputs": [],
   "source": [
    "%load_ext autoreload\n",
    "%autoreload 2"
   ]
  },
  {
   "cell_type": "code",
   "execution_count": 2,
   "metadata": {},
   "outputs": [
    {
     "name": "stderr",
     "output_type": "stream",
     "text": [
      "/home/siwin/code/WhiteMatterGenerator/Configuration/.venv/lib/python3.10/site-packages/tqdm/auto.py:21: TqdmWarning: IProgress not found. Please update jupyter and ipywidgets. See https://ipywidgets.readthedocs.io/en/stable/user_install.html\n",
      "  from .autonotebook import tqdm as notebook_tqdm\n"
     ]
    }
   ],
   "source": [
    "import os\n",
    "import sys\n",
    "import numpy as np\n",
    "import time\n",
    "import json5 as json\n",
    "\n",
    "sys.path.append('../')\n",
    "from src import utils\n",
    "from src import utils_cells"
   ]
  },
  {
   "cell_type": "markdown",
   "metadata": {},
   "source": [
    "# SET PATHS"
   ]
  },
  {
   "cell_type": "code",
   "execution_count": 3,
   "metadata": {},
   "outputs": [],
   "source": [
    "# path_output = '../output'\n",
    "path_parameter_config = '../configs/example.conf'\n",
    "\n",
    "path_project = '../'\n",
    "path_output = os.path.join(path_project, 'output')"
   ]
  },
  {
   "cell_type": "markdown",
   "metadata": {},
   "source": [
    "# LOAD PARAMETERS"
   ]
  },
  {
   "cell_type": "code",
   "execution_count": 4,
   "metadata": {},
   "outputs": [
    {
     "data": {
      "text/plain": [
       "{'targetFVFs': [0.8],\n",
       " 'growSpeeds': [0.02, 0.01, 0.01, 0.01],\n",
       " 'contractSpeed': 0.1,\n",
       " 'maxIterations': [5, 7, 4, 2],\n",
       " 'maxIterationsWithoutImprovement': 100,\n",
       " 'outputIntervals': [5, 7, 4, 2],\n",
       " 'ellipsoidDensityScalers': [0.5, 0.5, 0.25, 0.2],\n",
       " 'outputResolution': 16,\n",
       " 'outputBinary': 'false',\n",
       " 'outputSimpleMesh': 'true',\n",
       " 'extendAxons': 'false',\n",
       " 'exportAs': 'multiple',\n",
       " 'nRepetitions': 2,\n",
       " 'minimumDistance': 0.07,\n",
       " 'targetAxonCount': [80],\n",
       " 'alphas': [4.0],\n",
       " 'betas': [0.225],\n",
       " 'mapFromMaxDiameterToMinDiameter': {'from': [1.25, 2.25], 'to': [0.5, 1.0]},\n",
       " 'mapFromDiameterToDeformationFactor': {'from': [0.1, 1.0],\n",
       "  'to': [0.66, 0.66]},\n",
       " 'fiberMode': 'sheets',\n",
       " 'fibers': {'fiber0': {'frac': 1.0, 'orientation': [0, 0, 1], 'epsilon': 0.0}},\n",
       " 'targetCVF': 0.05,\n",
       " 'l1_mean': 13.0,\n",
       " 'l1_std': 2.0,\n",
       " 'l2_mean': 5.0,\n",
       " 'l2_std': 1.0,\n",
       " 'rotationLim': 23}"
      ]
     },
     "execution_count": 4,
     "metadata": {},
     "output_type": "execute_result"
    }
   ],
   "source": [
    "with open(path_parameter_config, 'r') as file:\n",
    "\n",
    "    parameters = json.load(file)\n",
    "\n",
    "parameters"
   ]
  },
  {
   "cell_type": "markdown",
   "metadata": {},
   "source": [
    "# GENERATE INITIAL CONFIG-FILES"
   ]
  },
  {
   "cell_type": "markdown",
   "metadata": {},
   "source": [
    "#### GENERATE CONFIG-FILES (WITHOUT CELLS)"
   ]
  },
  {
   "cell_type": "code",
   "execution_count": 5,
   "metadata": {},
   "outputs": [
    {
     "name": "stdout",
     "output_type": "stream",
     "text": [
      "[LOG] Generating 2 substrate(s) under the name: cylinders-alpha=4.0-beta=0.225-targetFVF=0.8-num_cylinders=80-mode_fiber=sheets-fiber0-frac=1.0-orientation=[0,0,1]-epsilon=0.0\n",
      "\n"
     ]
    },
    {
     "name": "stderr",
     "output_type": "stream",
     "text": [
      "  0%|          | 0/2 [00:00<?, ?it/s]"
     ]
    },
    {
     "name": "stdout",
     "output_type": "stream",
     "text": [
      "\u001b[1;35m/*************************************  MCDC.conf ************************/\n",
      "\u001b[0m\u001b[0;32m[INFO]\u001b[0m    Checking configuration file labels...\n",
      "\u001b[0;32m[INFO]\u001b[0m    Done...\n",
      "\u001b[1;43m[Warning]\u001b[0m Parameter: 0 Unknown\n",
      "\u001b[1;35m/***************   MC/DC Simulation parameters check out:  ***************/\u001b[0m\n",
      "\u001b[1;43m[Warning]\u001b[0m The number of processors to be used (12) is higher than the physical available processors (8).\n",
      "\u001b[0;32m[INFO]\u001b[0m    Checking Sequence Scheme file format...\n",
      "\u001b[0;32m[INFO]\u001b[0m    Done...\n",
      "\u001b[0;32m[INFO]\u001b[0m    Checking Ouput format...\n",
      "\u001b[0;32m[INFO]\u001b[0m    Done...\n",
      "\u001b[1;35m/********************   MC/DC Simulation Info:   *************************/\u001b[0m\n",
      "\u001b[0;32m[INFO]   \u001b[0m Software Version:      -------------------------------1.42.14_wf\n",
      "\u001b[0;32m[INFO]   \u001b[0m Number of particles:   ----------------------------------------1\n",
      "\u001b[0;32m[INFO]   \u001b[0m Number of steps:       ----------------------------------------1\n",
      "\u001b[0;32m[INFO]   \u001b[0m Number of cores:       ---------------------------------------12\n",
      "\u001b[0;32m[INFO]   \u001b[0m Diffusivity:           ------------------------0.000001e-9 m^2/s\n",
      "\u001b[0;32m[INFO]   \u001b[0m Particle dynamics duration: ------------------------ 0.010000 ms\n",
      "\u001b[0;32m[INFO]   \u001b[0m PLY obstacles:         ----------------------------------- false\n",
      "\u001b[0;32m[INFO]   \u001b[0m Cylinder obstacles:    ----------------------------------- false\n",
      "\u001b[0;32m[INFO]   \u001b[0m Gamma Configuration:   -------------------------------------true\n",
      "\u001b[0;32m[INFO]   \u001b[0m Write trajfile:        ----------------------------------- false\n",
      "\u001b[0;32m[INFO]   \u001b[0m Write to binary:       ------------------------------------ true\n",
      "\u001b[0;32m[INFO]   \u001b[0m Write to txt:          ----------------------------------- false\n",
      "\u001b[0;32m[INFO]   \u001b[0m Standard units:        ------------------------------------ true\n",
      "\u001b[0;32m[INFO]   \u001b[0m Permeability:          ----------------------------------- false\n",
      "\u001b[0;32m[INFO]   \u001b[0m Custom seed:           ----------------------------------- false\n",
      "\u001b[0;32m[INFO]   \u001b[0m Write phase shift histogram: ----------------------------- false\n",
      "\u001b[0;32m[INFO]   \u001b[0m Write propagator file: ----------------------------------- false\n",
      "\u001b[0;32m[INFO]   \u001b[0m Walker initial position file: ---------------------------- false\n",
      "\u001b[0;32m[INFO]   \u001b[0m Save fixed walker positions: ----------------------------- false\n",
      "\u001b[0;32m[INFO]   \u001b[0m Initial delta position: ---------------------------------- false\n",
      "\u001b[0;32m[INFO]   \u001b[0m Number of voxels:      --------------------------------------- 0\n",
      "\u001b[0;32m[INFO]   \u001b[0m Border Patrol          -------------------------------------- On\n",
      "\u001b[0;32m[INFO]   \u001b[0m Discard stuck spins    -------------------------------------- On\n",
      "\u001b[0;32m[INFO]   \u001b[0m Scheme file name:      ---------------------------- dummy.scheme\n",
      "\u001b[0;32m[INFO]   \u001b[0m Date and Time:         ------------------- 21-07-2024 (20:42:05)\n",
      "\n",
      "\u001b[0;32m[INFO]\u001b[0m    Initialializing Gamma distribution (4.000000,0.225000).\n",
      "\n",
      "\u001b[0;32m[INFO]\u001b[0m    0-1: ****************************************************************\n",
      "\u001b[0;32m[INFO]\u001b[0m    1-2: *********************************\n",
      "\u001b[0;32m[INFO]\u001b[0m    2-3: **\n",
      "\u001b[0;32m[INFO]\u001b[0m    3-4: \n",
      "\u001b[0;32m[INFO]\u001b[0m    4-5: \n",
      "\u001b[0;32m[INFO]\u001b[0m    5-6: \n",
      "\u001b[0;32m[INFO]\u001b[0m    6-7: \n",
      "\u001b[0;32m[INFO]\u001b[0m    7-8: \n",
      "\u001b[0;32m[INFO]\u001b[0m    8-9: \n",
      "\u001b[0;32m[INFO]\u001b[0m    9-10:\n",
      "\u001b[0;32m[INFO]\u001b[0m    >10: \n",
      "\n",
      "0.765931\n",
      "0.768576\n",
      "0.771782\n",
      "0.771782\n",
      "0.773224\n"
     ]
    },
    {
     "name": "stderr",
     "output_type": "stream",
     "text": [
      " 50%|█████     | 1/2 [00:02<00:02,  2.60s/it]"
     ]
    },
    {
     "name": "stdout",
     "output_type": "stream",
     "text": [
      "0.773224\n",
      "Percentage of cylinders selected: 82.500000%,\n",
      "ICVF achieved: 77.322382  (96% of the desired icvf)\n",
      "\n",
      "\u001b[0;32m[INFO]\u001b[0m    Done.\n",
      "\n",
      "\u001b[0;32m[INFO]\u001b[0m     Sim: 0 Initialized\n",
      "\u001b[0;32m[INFO]\u001b[0m     Sim: 1 Initialized\n",
      "\u001b[0;32m[INFO]\u001b[0m     Sim: 2 Initialized\n",
      "\u001b[0;32m[INFO]\u001b[0m     Sim: 3 Initialized\n",
      "\u001b[0;32m[INFO]\u001b[0m     Sim: 4 Initialized\n",
      "\u001b[0;32m[INFO]\u001b[0m     Sim: 5 Initialized\n",
      "\u001b[0;32m[INFO]\u001b[0m     Sim: 6 Initialized\n",
      "\u001b[0;32m[INFO]\u001b[0m     Sim: 7 Initialized\n",
      "\u001b[0;32m[INFO]\u001b[0m     Sim: 8 Initialized\n",
      "\u001b[0;32m[INFO]\u001b[0m     Sim: 9 Initialized\n",
      "\u001b[0;32m[INFO]\u001b[0m     Sim: 10 Initialized\n",
      "\u001b[0;32m[INFO]\u001b[0m     Sim: 11 Initialized\n",
      "\u001b[1;35m/********************   MC/DC Simulation START:  *************************/\u001b[0m\n",
      "\u001b[0;32m[INFO]\u001b[0m     Sim: 0 Simulation ended after: 0 seconds seconds\n",
      "\u001b[0;32m[INFO]\u001b[0m     Sim: 1 Simulation ended after: 0 seconds seconds\n",
      "\u001b[0;32m[INFO]\u001b[0m     Sim: 3 Simulation ended after: 0 seconds seconds\n",
      "\u001b[0;32m[INFO]\u001b[0m     Sim: 4 Simulation ended after: 0 seconds seconds\n",
      "\u001b[0;32m[INFO]\u001b[0m     Sim: 5 Simulation ended after: 0 seconds seconds\n",
      "\u001b[0;32m[INFO]\u001b[0m     Sim: 6 Simulation ended after: 0 seconds seconds\n",
      "\u001b[0;32m[INFO]\u001b[0m     Sim: 2 Simulation ended after: 0 seconds seconds\n",
      "\u001b[0;32m[INFO]\u001b[0m     Sim: 10 Simulation ended after: 0 seconds seconds\n",
      "\u001b[0;32m[INFO]\u001b[0m     Sim: 8 Simulation ended after: 0 seconds seconds\n",
      "\u001b[0;32m[INFO]\u001b[0m     Sim: 9 Simulation ended after: 0 seconds seconds\n",
      "\u001b[0;32m[INFO]\u001b[0m    [Completed: 0%] [ETA: Unknown] ( ? steps/second)\u001b[0;32m[INFO]\u001b[0m     Sim: 11 Simulation ended after: 0 seconds seconds\n",
      "\u001b[0;32m[INFO]\u001b[0m     Sim: 7 Simulation ended after: 0 seconds seconds\n",
      "\u001b[0;32m[INFO]\u001b[0m     All 12 simulations ended after: 0 seconds in average\n",
      "\u001b[0;32m[INFO]\u001b[0m     Joining resulting data... \n",
      "\u001b[0;32m[INFO]\u001b[0m     Done.\n",
      "\u001b[1;35m/*************************************  MCDC.conf ************************/\n",
      "\u001b[0m\u001b[0;32m[INFO]\u001b[0m    Checking configuration file labels...\n",
      "\u001b[0;32m[INFO]\u001b[0m    Done...\n",
      "\u001b[1;43m[Warning]\u001b[0m Parameter: 0 Unknown\n",
      "\u001b[1;35m/***************   MC/DC Simulation parameters check out:  ***************/\u001b[0m\n",
      "\u001b[1;43m[Warning]\u001b[0m The number of processors to be used (12) is higher than the physical available processors (8).\n",
      "\u001b[0;32m[INFO]\u001b[0m    Checking Sequence Scheme file format...\n",
      "\u001b[0;32m[INFO]\u001b[0m    Done...\n",
      "\u001b[0;32m[INFO]\u001b[0m    Checking Ouput format...\n",
      "\u001b[0;32m[INFO]\u001b[0m    Done...\n",
      "\u001b[1;35m/********************   MC/DC Simulation Info:   *************************/\u001b[0m\n",
      "\u001b[0;32m[INFO]   \u001b[0m Software Version:      -------------------------------1.42.14_wf\n",
      "\u001b[0;32m[INFO]   \u001b[0m Number of particles:   ----------------------------------------1\n",
      "\u001b[0;32m[INFO]   \u001b[0m Number of steps:       ----------------------------------------1\n",
      "\u001b[0;32m[INFO]   \u001b[0m Number of cores:       ---------------------------------------12\n",
      "\u001b[0;32m[INFO]   \u001b[0m Diffusivity:           ------------------------0.000001e-9 m^2/s\n",
      "\u001b[0;32m[INFO]   \u001b[0m Particle dynamics duration: ------------------------ 0.010000 ms\n",
      "\u001b[0;32m[INFO]   \u001b[0m PLY obstacles:         ----------------------------------- false\n",
      "\u001b[0;32m[INFO]   \u001b[0m Cylinder obstacles:    ----------------------------------- false\n",
      "\u001b[0;32m[INFO]   \u001b[0m Gamma Configuration:   -------------------------------------true\n",
      "\u001b[0;32m[INFO]   \u001b[0m Write trajfile:        ----------------------------------- false\n",
      "\u001b[0;32m[INFO]   \u001b[0m Write to binary:       ------------------------------------ true\n",
      "\u001b[0;32m[INFO]   \u001b[0m Write to txt:          ----------------------------------- false\n",
      "\u001b[0;32m[INFO]   \u001b[0m Standard units:        ------------------------------------ true\n",
      "\u001b[0;32m[INFO]   \u001b[0m Permeability:          ----------------------------------- false\n",
      "\u001b[0;32m[INFO]   \u001b[0m Custom seed:           ----------------------------------- false\n",
      "\u001b[0;32m[INFO]   \u001b[0m Write phase shift histogram: ----------------------------- false\n",
      "\u001b[0;32m[INFO]   \u001b[0m Write propagator file: ----------------------------------- false\n",
      "\u001b[0;32m[INFO]   \u001b[0m Walker initial position file: ---------------------------- false\n",
      "\u001b[0;32m[INFO]   \u001b[0m Save fixed walker positions: ----------------------------- false\n",
      "\u001b[0;32m[INFO]   \u001b[0m Initial delta position: ---------------------------------- false\n",
      "\u001b[0;32m[INFO]   \u001b[0m Number of voxels:      --------------------------------------- 0\n",
      "\u001b[0;32m[INFO]   \u001b[0m Border Patrol          -------------------------------------- On\n",
      "\u001b[0;32m[INFO]   \u001b[0m Discard stuck spins    -------------------------------------- On\n",
      "\u001b[0;32m[INFO]   \u001b[0m Scheme file name:      ---------------------------- dummy.scheme\n",
      "\u001b[0;32m[INFO]   \u001b[0m Date and Time:         ------------------- 21-07-2024 (20:42:07)\n",
      "\n",
      "\u001b[0;32m[INFO]\u001b[0m    Initialializing Gamma distribution (4.000000,0.225000).\n",
      "\n",
      "\u001b[0;32m[INFO]\u001b[0m    0-1: *****************************************************************\n",
      "\u001b[0;32m[INFO]\u001b[0m    1-2: ********************************\n",
      "\u001b[0;32m[INFO]\u001b[0m    2-3: **\n",
      "\u001b[0;32m[INFO]\u001b[0m    3-4: \n",
      "\u001b[0;32m[INFO]\u001b[0m    4-5: \n",
      "\u001b[0;32m[INFO]\u001b[0m    5-6: \n",
      "\u001b[0;32m[INFO]\u001b[0m    6-7: \n",
      "\u001b[0;32m[INFO]\u001b[0m    7-8: \n",
      "\u001b[0;32m[INFO]\u001b[0m    8-9: \n",
      "\u001b[0;32m[INFO]\u001b[0m    9-10:\n",
      "\u001b[0;32m[INFO]\u001b[0m    >10: \n",
      "\n",
      "0.759427\n",
      "0.759833\n",
      "0.759841\n",
      "0.76319\n",
      "0.766084\n"
     ]
    },
    {
     "name": "stderr",
     "output_type": "stream",
     "text": [
      "100%|██████████| 2/2 [00:05<00:00,  2.56s/it]"
     ]
    }
   ],
   "source": [
    "paths_config_files = utils.generate_config_files(\n",
    "    path_output,\n",
    "    parameters[\"alphas\"], \n",
    "    parameters[\"betas\"], \n",
    "    parameters[\"targetFVFs\"], \n",
    "    parameters[\"targetAxonCount\"], \n",
    "    parameters[\"nRepetitions\"],\n",
    "    parameters[\"fibers\"],\n",
    "    parameters[\"ellipsoidDensityScalers\"][0],\n",
    "    parameters[\"growSpeeds\"][0], \n",
    "    parameters[\"contractSpeed\"], \n",
    "    parameters[\"minimumDistance\"],\n",
    "    parameters[\"mapFromDiameterToDeformationFactor\"], \n",
    "    parameters[\"mapFromMaxDiameterToMinDiameter\"],\n",
    "    color_mode=\"random\",\n",
    "    mode_fiber=parameters[\"fiberMode\"],\n",
    ")"
   ]
  },
  {
   "cell_type": "markdown",
   "metadata": {},
   "source": [
    "#### GENERATE COPIES OF THE ABOVE CONFIG-FILES AND ADD CELLS"
   ]
  },
  {
   "cell_type": "code",
   "execution_count": null,
   "metadata": {},
   "outputs": [
    {
     "name": "stdout",
     "output_type": "stream",
     "text": [
      "config:  {'voxelSize': [23.367034, 23.367034, 23.367034], 'mapFromMaxDiameterToEllipsoidSeparation': {'from': [1.0, 2.0], 'to': [0.5, 1.0]}, 'growSpeed': 0.02, 'contractSpeed': 0.1, 'border': 2.778740635, 'minimumDistance': 0.07, 'mapFromDiameterToDeformationFactor': {'from': [0.1, 1.0], 'to': [0.66, 0.66]}, 'mapFromMaxDiameterToMinDiameter': {'from': [1.25, 2.25], 'to': [0.5, 1.0]}, 'axons': [{'position': [4.184323635, -3.7084263650000002, 10.777898820978306], 'direction': [0.0, 0.0, 1.0], 'maxDiameter': 6.323275000000001, 'color': '#000080', 'gRatio': 0.7}, {'position': [5.361523634999999, 2.4925236349999995, -10.153400467793386], 'direction': [0.0, 0.0, 1.0], 'maxDiameter': 5.81165, 'color': '#001664', 'gRatio': 0.7}, {'position': [-9.694010365, -6.0454363650000005, 6.032365471849138], 'direction': [-0.0, -0.0, 1.0], 'maxDiameter': 4.746425, 'color': '#002c48', 'gRatio': 0.7}, {'position': [8.115523634999999, -6.0454363650000005, -5.763640588910727], 'direction': [-0.0, 0.0, 1.0], 'maxDiameter': 4.746425, 'color': '#00422b', 'gRatio': 0.7}, {'position': [-7.899436365, -1.6712663650000001, 3.568692389040386], 'direction': [-0.0, 0.0, 1.0], 'maxDiameter': 4.660825, 'color': '#00580f', 'gRatio': 0.7}, {'position': [9.910123635000001, -1.6712663650000001, 10.647617716924954], 'direction': [0.0, 0.0, 1.0], 'maxDiameter': 4.660825, 'color': '#005127', 'gRatio': 0.7}, {'position': [-6.245846365, -8.573822365, 0.7309881067844817], 'direction': [0.0, -0.0, 1.0], 'maxDiameter': 4.6101, 'color': '#003d59', 'gRatio': 0.7}, {'position': [-6.245846365, 9.235723635, -1.4808836599373905], 'direction': [0.0, -0.0, 1.0], 'maxDiameter': 4.6101, 'color': '#00229b', 'gRatio': 0.7}, {'position': [-2.4600663650000003, 6.0355236350000006, -10.087123420155212], 'direction': [0.0, 0.0, 1.0], 'maxDiameter': 4.1847, 'color': '#000ecd', 'gRatio': 0.7}, {'position': [-1.359706365, -5.787816364999999, 1.0677983169217473], 'direction': [-0.0, 0.0, 1.0], 'maxDiameter': 3.898725, 'color': '#000eff', 'gRatio': 0.7}, {'position': [9.719423634999998, 3.1031236349999993, 2.8055902868992266], 'direction': [0.0, -0.0, 1.0], 'maxDiameter': 3.8176500000000004, 'color': '#0038ff', 'gRatio': 0.7}, {'position': [-8.090146365, 3.1031236349999993, 8.391425777912152], 'direction': [0.0, -0.0, 1.0], 'maxDiameter': 3.8176500000000004, 'color': '#0063ff', 'gRatio': 0.7}, {'position': [-2.107616365, 1.136323635, -2.5464399549874894], 'direction': [-0.0, -0.0, 1.0], 'maxDiameter': 3.5909000000000004, 'color': '#008dff', 'gRatio': 0.7}, {'position': [-6.168996365, -5.256036365, 3.9785977852817815], 'direction': [0.0, -0.0, 1.0], 'maxDiameter': 3.581325, 'color': '#00c0ff', 'gRatio': 0.7}, {'position': [-9.405043365000001, -9.865483365, -7.398526228689184], 'direction': [0.0, 0.0, 1.0], 'maxDiameter': 3.54945, 'color': '#00ceff', 'gRatio': 0.7}, {'position': [-9.405043365000001, 7.944023635000001, -5.973148086224453], 'direction': [-0.0, -0.0, 1.0], 'maxDiameter': 3.54945, 'color': '#00dcff', 'gRatio': 0.7}, {'position': [8.404523635, -9.865483365, -5.272430466092272], 'direction': [0.0, -0.0, 1.0], 'maxDiameter': 3.54945, 'color': '#00e9ff', 'gRatio': 0.7}, {'position': [8.404523635, 7.944023635000001, -2.730866325043552], 'direction': [-0.0, 0.0, 1.0], 'maxDiameter': 3.54945, 'color': '#00f6f8', 'gRatio': 0.7}, {'position': [0.5706436349999997, -8.622762365, -1.096226529773066], 'direction': [-0.0, -0.0, 1.0], 'maxDiameter': 3.5071999999999997, 'color': '#00ffe5', 'gRatio': 0.7}, {'position': [0.5706436349999997, 9.186823635, 0.08022468462465326], 'direction': [0.0, -0.0, 1.0], 'maxDiameter': 3.5071999999999997, 'color': '#00fdcb', 'gRatio': 0.7}, {'position': [2.262823635, 5.130423635, -11.024514774356533], 'direction': [-0.0, -0.0, 1.0], 'maxDiameter': 3.4963499999999996, 'color': '#00fbb7', 'gRatio': 0.7}, {'position': [-5.515226365, 5.054823635, 6.336802241558837], 'direction': [-0.0, 0.0, 1.0], 'maxDiameter': 3.4049, 'color': '#00faa3', 'gRatio': 0.7}, {'position': [5.478923634999999, -9.813789365, -2.7773346872070626], 'direction': [-0.0, 0.0, 1.0], 'maxDiameter': 3.31105, 'color': '#00fa88', 'gRatio': 0.7}, {'position': [5.478923634999999, 7.995723635000001, -7.576195820594637], 'direction': [0.0, 0.0, 1.0], 'maxDiameter': 3.31105, 'color': '#00fb68', 'gRatio': 0.7}, {'position': [-4.697736365, -0.6223663649999995, 8.991219156790178], 'direction': [-0.0, -0.0, 1.0], 'maxDiameter': 3.2906750000000002, 'color': '#00fd49', 'gRatio': 0.7}, {'position': [-0.17269636500000018, -2.2053963650000004, 7.470140160430303], 'direction': [0.0, 0.0, 1.0], 'maxDiameter': 3.214125, 'color': '#00fe1f', 'gRatio': 0.7}, {'position': [-5.159096365, 2.0867236350000002, 4.183069375245296], 'direction': [-0.0, 0.0, 1.0], 'maxDiameter': 3.1263249999999996, 'color': '#13fb00', 'gRatio': 0.7}, {'position': [0.39896363499999943, 2.3678236350000006, -3.478085565260619], 'direction': [0.0, -0.0, 1.0], 'maxDiameter': 3.0787999999999998, 'color': '#26f000', 'gRatio': 0.7}, {'position': [-2.350906365, -8.677272365, 0.04002840231717286], 'direction': [0.0, 0.0, 1.0], 'maxDiameter': 3.00465, 'color': '#39e500', 'gRatio': 0.7}, {'position': [-2.350906365, 9.132323634999999, -11.030239661910123], 'direction': [-0.0, -0.0, 1.0], 'maxDiameter': 3.00465, 'color': '#4cd900', 'gRatio': 0.7}, {'position': [-3.7088163649999997, -3.541226365, -3.3295246945472385], 'direction': [0.0, -0.0, 1.0], 'maxDiameter': 2.9974, 'color': '#60ce00', 'gRatio': 0.7}, {'position': [1.2947236350000004, -0.1011763650000006, 1.9180183538955138], 'direction': [-0.0, -0.0, 1.0], 'maxDiameter': 2.90495, 'color': '#6ad800', 'gRatio': 0.7}, {'position': [6.769023635, -0.7713963649999993, 11.473661840301501], 'direction': [0.0, 0.0, 1.0], 'maxDiameter': 2.88755, 'color': '#72e500', 'gRatio': 0.7}, {'position': [3.125023635, 8.767223635, 8.191110598313257], 'direction': [-0.0, -0.0, 1.0], 'maxDiameter': 2.8604000000000003, 'color': '#78ef00', 'gRatio': 0.7}, {'position': [3.125023635, -9.042320365, 2.2226959884570956], 'direction': [0.0, 0.0, 1.0], 'maxDiameter': 2.8604000000000003, 'color': '#7ef804', 'gRatio': 0.7}, {'position': [6.909423635, 5.872623635, 4.810691340564622], 'direction': [-0.0, 0.0, 1.0], 'maxDiameter': 2.8214499999999996, 'color': '#89ff10', 'gRatio': 0.7}, {'position': [9.974323635000001, 5.964223635, 10.097687501426334], 'direction': [-0.0, -0.0, 1.0], 'maxDiameter': 2.751975, 'color': '#96ff1c', 'gRatio': 0.7}, {'position': [-7.835246365, 5.964223635, 8.871258471678532], 'direction': [-0.0, -0.0, 1.0], 'maxDiameter': 2.751975, 'color': '#a4ff28', 'gRatio': 0.7}, {'position': [1.520523635, -6.298516365, 5.2714925534246735], 'direction': [-0.0, -0.0, 1.0], 'maxDiameter': 2.7058, 'color': '#b6ff38', 'gRatio': 0.7}, {'position': [-3.8789363650000004, -6.921636365, -8.56361889724705], 'direction': [-0.0, 0.0, 1.0], 'maxDiameter': 2.602, 'color': '#c4ff34', 'gRatio': 0.7}, {'position': [5.298123635, -7.216426365, 4.842809669764458], 'direction': [-0.0, 0.0, 1.0], 'maxDiameter': 2.576125, 'color': '#d2ff28', 'gRatio': 0.7}, {'position': [0.2417236349999996, 6.780323635, 2.0964754741156977], 'direction': [-0.0, 0.0, 1.0], 'maxDiameter': 2.5517250000000002, 'color': '#dfff1c', 'gRatio': 0.7}, {'position': [-3.1378463649999997, 3.370323635, 4.311825840391544], 'direction': [-0.0, 0.0, 1.0], 'maxDiameter': 2.5359, 'color': '#edff10', 'gRatio': 0.7}, {'position': [-2.3154063650000003, -1.307626365, -9.849565623906498], 'direction': [-0.0, 0.0, 1.0], 'maxDiameter': 2.4806375, 'color': '#fafa04', 'gRatio': 0.7}, {'position': [3.506823635, -0.2693663649999998, -7.052377741073237], 'direction': [-0.0, 0.0, 1.0], 'maxDiameter': 2.3475525, 'color': '#fff000', 'gRatio': 0.7}, {'position': [-0.3207563649999994, 4.3957236349999995, 3.476726829151861], 'direction': [-0.0, 0.0, 1.0], 'maxDiameter': 2.135, 'color': '#ffe900', 'gRatio': 0.7}, {'position': [8.156923634999998, 0.8806836350000005, -4.673219448619659], 'direction': [-0.0, 0.0, 1.0], 'maxDiameter': 2.0772475000000004, 'color': '#ffe100', 'gRatio': 0.7}, {'position': [-9.652583365, 0.8806836350000005, 11.668606106126278], 'direction': [-0.0, -0.0, 1.0], 'maxDiameter': 2.0772475000000004, 'color': '#ffda00', 'gRatio': 0.7}, {'position': [4.787023635000001, 5.880923635, -9.479412916196495], 'direction': [0.0, -0.0, 1.0], 'maxDiameter': 2.067095, 'color': '#ffd303', 'gRatio': 0.7}, {'position': [0.9245836349999994, -4.408826365, -0.7850308369507957], 'direction': [0.0, -0.0, 1.0], 'maxDiameter': 1.9799325, 'color': '#ffcb06', 'gRatio': 0.7}, {'position': [3.369523635, -6.986696365, -1.9878483107611373], 'direction': [-0.0, 0.0, 1.0], 'maxDiameter': 1.963745, 'color': '#ffc10b', 'gRatio': 0.7}, {'position': [-6.600976365, 0.6554036350000008, 2.664945997588564], 'direction': [0.0, -0.0, 1.0], 'maxDiameter': 1.93863, 'color': '#ffba0e', 'gRatio': 0.7}, {'position': [7.743523634999999, -3.2362963650000003, 2.26059848848597], 'direction': [-0.0, -0.0, 1.0], 'maxDiameter': 1.900525, 'color': '#ffa10b', 'gRatio': 0.7}, {'position': [2.3142236349999994, 1.761323635, -8.894098835979712], 'direction': [0.0, 0.0, 1.0], 'maxDiameter': 1.8851075000000002, 'color': '#ff8908', 'gRatio': 0.7}, {'position': [-4.771546365, 7.060423634999999, 0.8677810230822534], 'direction': [0.0, -0.0, 1.0], 'maxDiameter': 1.82681, 'color': '#ff7006', 'gRatio': 0.7}, {'position': [-5.482286365, -2.733906365, -5.984674158482784], 'direction': [-0.0, 0.0, 1.0], 'maxDiameter': 1.734435, 'color': '#ff5803', 'gRatio': 0.7}, {'position': [-1.7492463650000003, -3.508666365, -11.600705004202762], 'direction': [-0.0, -0.0, 1.0], 'maxDiameter': 1.6691075, 'color': '#ff4300', 'gRatio': 0.7}, {'position': [-8.023953365, 0.8729136349999997, 2.4265822516029125], 'direction': [-0.0, -0.0, 1.0], 'maxDiameter': 1.590505, 'color': '#ff3000', 'gRatio': 0.7}, {'position': [3.4635236349999996, 6.9113236350000005, 9.664921835177013], 'direction': [-0.0, 0.0, 1.0], 'maxDiameter': 1.57454, 'color': '#ff2100', 'gRatio': 0.7}, {'position': [-9.440991365, 4.831623635, -1.210379708927487], 'direction': [0.0, 0.0, 1.0], 'maxDiameter': 1.54895, 'color': '#ff1300', 'gRatio': 0.7}, {'position': [8.368523634999999, 4.831623635, -3.048995485343834], 'direction': [-0.0, 0.0, 1.0], 'maxDiameter': 1.54895, 'color': '#ff0512', 'gRatio': 0.7}, {'position': [6.664323635000001, -8.231844365, -11.455180764164638], 'direction': [0.0, 0.0, 1.0], 'maxDiameter': 1.5270249999999999, 'color': '#ff0047', 'gRatio': 0.7}, {'position': [2.2359236350000007, 7.144023635, -2.2040174454227817], 'direction': [0.0, 0.0, 1.0], 'maxDiameter': 1.5252299999999999, 'color': '#ff007c', 'gRatio': 0.7}, {'position': [-1.4908363649999998, 3.391323634999999, 8.59634974936509], 'direction': [-0.0, -0.0, 1.0], 'maxDiameter': 1.505655, 'color': '#ff00c3', 'gRatio': 0.7}, {'position': [-3.9372163650000003, -5.291396365000001, -1.3177103146931852], 'direction': [-0.0, 0.0, 1.0], 'maxDiameter': 1.39404, 'color': '#ff00f8', 'gRatio': 0.7}, {'position': [-3.854096365, 8.220323635, 10.551937624331343], 'direction': [0.0, -0.0, 1.0], 'maxDiameter': 1.3826399999999999, 'color': '#ea0aff', 'gRatio': 0.7}, {'position': [-8.151738365, -4.171316365, -5.305819056239518], 'direction': [0.0, 0.0, 1.0], 'maxDiameter': 1.3152875, 'color': '#d615ff', 'gRatio': 0.7}, {'position': [-0.8118163650000003, -0.3278063650000007, -3.3946200318117423], 'direction': [0.0, 0.0, 1.0], 'maxDiameter': 1.290445, 'color': '#c11fff', 'gRatio': 0.7}, {'position': [5.083323634999999, -0.6087363650000004, -3.4310617966854284], 'direction': [-0.0, -0.0, 1.0], 'maxDiameter': 1.23314, 'color': '#ac29ff', 'gRatio': 0.7}, {'position': [-1.0848363650000001, 7.812023634999999, -6.4313520803887], 'direction': [-0.0, 0.0, 1.0], 'maxDiameter': 1.213405, 'color': '#aa3ffb', 'gRatio': 0.7}, {'position': [-6.243366365, 6.800823635, -2.53936475526649], 'direction': [-0.0, -0.0, 1.0], 'maxDiameter': 1.2105175, 'color': '#bc50f8', 'gRatio': 0.7}, {'position': [-0.23327636500000004, 0.5181336349999999, -4.6888451825397945], 'direction': [-0.0, -0.0, 1.0], 'maxDiameter': 1.2029675, 'color': '#ce62f4', 'gRatio': 0.7}, {'position': [1.6416236350000002, -1.856656365, 5.9834734825783205], 'direction': [-0.0, 0.0, 1.0], 'maxDiameter': 1.152445, 'color': '#e074f1', 'gRatio': 0.7}, {'position': [2.6183236349999994, 3.195423634999999, 2.2525431194212544], 'direction': [0.0, 0.0, 1.0], 'maxDiameter': 1.121775, 'color': '#ec84ef', 'gRatio': 0.7}, {'position': [2.4372236350000005, -1.2480263650000003, 9.957766385806282], 'direction': [0.0, 0.0, 1.0], 'maxDiameter': 1.1051900000000001, 'color': '#ee92f1', 'gRatio': 0.7}, {'position': [2.370723634999999, -7.680856365, -7.069878501183635], 'direction': [0.0, 0.0, 1.0], 'maxDiameter': 1.0106275, 'color': '#f1a5f3', 'gRatio': 0.7}, {'position': [-3.9649863649999997, -8.469780365, -1.637804775592894], 'direction': [-0.0, -0.0, 1.0], 'maxDiameter': 1.008775, 'color': '#f3b3f5', 'gRatio': 0.7}, {'position': [7.618523634999999, 3.991623635, 5.113230624170237], 'direction': [0.0, 0.0, 1.0], 'maxDiameter': 0.9479525, 'color': '#f5c0f7', 'gRatio': 0.7}, {'position': [8.805223635, -3.6533863650000002, 3.2199753252790355], 'direction': [0.0, 0.0, 1.0], 'maxDiameter': 0.87571, 'color': '#f8cef9', 'gRatio': 0.7}, {'position': [-9.004327565, -3.6533863650000002, -2.809493101542129], 'direction': [0.0, 0.0, 1.0], 'maxDiameter': 0.87571, 'color': '#fadcfa', 'gRatio': 0.7}, {'position': [-7.219726365, -3.728886365, -3.2214032954994423], 'direction': [-0.0, -0.0, 1.0], 'maxDiameter': 0.67607, 'color': '#fceafc', 'gRatio': 0.7}, {'position': [0.14905363499999957, -6.740526365, 9.40448515033149], 'direction': [-0.0, 0.0, 1.0], 'maxDiameter': 0.49657, 'color': '#fef8fe', 'gRatio': 0.7}], 'cells': []}\n",
      "config:  {'voxelSize': [23.30588, 23.30588, 23.30588], 'mapFromMaxDiameterToEllipsoidSeparation': {'from': [1.0, 2.0], 'to': [0.5, 1.0]}, 'growSpeed': 0.02, 'contractSpeed': 0.1, 'border': 2.8510355249999986, 'minimumDistance': 0.07, 'mapFromDiameterToDeformationFactor': {'from': [0.1, 1.0], 'to': [0.66, 0.66]}, 'mapFromMaxDiameterToMinDiameter': {'from': [1.25, 2.25], 'to': [0.5, 1.0]}, 'axons': [{'position': [4.701595525, -0.5033144749999998, -4.614020951040444], 'direction': [-0.0, -0.0, 1.0], 'maxDiameter': 8.203225, 'color': '#000080', 'gRatio': 0.7}, {'position': [-4.175684475000001, -1.0353844750000007, -4.127318946606319], 'direction': [0.0, 0.0, 1.0], 'maxDiameter': 5.995875000000001, 'color': '#001664', 'gRatio': 0.7}, {'position': [5.917495525, 8.990095525000001, 6.2397826927934315], 'direction': [-0.0, 0.0, 1.0], 'maxDiameter': 5.791300000000001, 'color': '#002c48', 'gRatio': 0.7}, {'position': [5.917495525, -8.613733475, -5.169325365724848], 'direction': [0.0, -0.0, 1.0], 'maxDiameter': 5.791300000000001, 'color': '#00422b', 'gRatio': 0.7}, {'position': [2.113195525, -6.1193344750000005, -8.302116946905471], 'direction': [0.0, 0.0, 1.0], 'maxDiameter': 4.4402, 'color': '#00580f', 'gRatio': 0.7}, {'position': [-5.954744475, -7.2991144750000005, -6.718773658374685], 'direction': [0.0, -0.0, 1.0], 'maxDiameter': 4.383775, 'color': '#005127', 'gRatio': 0.7}, {'position': [-5.954744475, 10.304695525, 7.988321120498425], 'direction': [0.0, -0.0, 1.0], 'maxDiameter': 4.383775, 'color': '#003d59', 'gRatio': 0.7}, {'position': [-6.157604475000001, 5.823995524999999, 5.438488433107439], 'direction': [-0.0, 0.0, 1.0], 'maxDiameter': 4.300525, 'color': '#00298b', 'gRatio': 0.7}, {'position': [-0.5051644750000008, -9.592614475000001, -6.258637803810631], 'direction': [0.0, -0.0, 1.0], 'maxDiameter': 4.13765, 'color': '#0014bc', 'gRatio': 0.7}, {'position': [-0.5051644750000008, 8.011195524999998, -3.6951323660031], 'direction': [-0.0, 0.0, 1.0], 'maxDiameter': 4.13765, 'color': '#000eff', 'gRatio': 0.7}, {'position': [1.3766955249999988, 3.5143955249999994, -1.8056492524525556], 'direction': [0.0, 0.0, 1.0], 'maxDiameter': 4.127625, 'color': '#0038ff', 'gRatio': 0.7}, {'position': [4.470395524999999, 4.543495524999999, -8.02167265722635], 'direction': [-0.0, 0.0, 1.0], 'maxDiameter': 3.992025, 'color': '#0063ff', 'gRatio': 0.7}, {'position': [-3.4454244750000003, 3.7132955249999995, -5.417373169955505], 'direction': [0.0, -0.0, 1.0], 'maxDiameter': 3.7422250000000004, 'color': '#008dff', 'gRatio': 0.7}, {'position': [-8.540755475000001, -5.050624475000001, 3.3765035205244907], 'direction': [0.0, 0.0, 1.0], 'maxDiameter': 3.52455, 'color': '#00b8ff', 'gRatio': 0.7}, {'position': [9.063095524999998, -5.050624475000001, -4.6137996139528665], 'direction': [0.0, 0.0, 1.0], 'maxDiameter': 3.52455, 'color': '#00caff', 'gRatio': 0.7}, {'position': [7.264295524999998, 3.711295524999999, -1.0723774618043347], 'direction': [0.0, 0.0, 1.0], 'maxDiameter': 3.1912249999999998, 'color': '#00d7ff', 'gRatio': 0.7}, {'position': [0.9104255249999991, -3.2120944750000007, -10.936492800822247], 'direction': [-0.0, 0.0, 1.0], 'maxDiameter': 3.1769999999999996, 'color': '#00e5ff', 'gRatio': 0.7}, {'position': [-2.6718444750000003, -7.003134475, -5.055319196829108], 'direction': [0.0, -0.0, 1.0], 'maxDiameter': 3.1559500000000003, 'color': '#00f6f8', 'gRatio': 0.7}, {'position': [-7.857819475, 1.4923955249999992, -7.820126514750422], 'direction': [0.0, -0.0, 1.0], 'maxDiameter': 3.041525, 'color': '#00ffe5', 'gRatio': 0.7}, {'position': [9.745995524999998, 1.4923955249999992, 0.6067026401431477], 'direction': [0.0, 0.0, 1.0], 'maxDiameter': 3.041525, 'color': '#00fdd1', 'gRatio': 0.7}, {'position': [-3.4036844750000004, -9.572748475000001, -5.049034315311668], 'direction': [-0.0, 0.0, 1.0], 'maxDiameter': 2.9942, 'color': '#00fcbd', 'gRatio': 0.7}, {'position': [-3.4036844750000004, 8.031095524999998, -9.910687040815095], 'direction': [-0.0, -0.0, 1.0], 'maxDiameter': 2.9942, 'color': '#00faaa', 'gRatio': 0.7}, {'position': [-8.614830475, -2.4106544750000003, -9.17468041051109], 'direction': [-0.0, 0.0, 1.0], 'maxDiameter': 2.97425, 'color': '#00fa92', 'gRatio': 0.7}, {'position': [8.988995525, -2.4106544750000003, 6.354090004981773], 'direction': [-0.0, -0.0, 1.0], 'maxDiameter': 2.97425, 'color': '#00fb73', 'gRatio': 0.7}, {'position': [4.819595524999999, -4.967344475000001, -11.594426756862713], 'direction': [-0.0, 0.0, 1.0], 'maxDiameter': 2.91195, 'color': '#00fc54', 'gRatio': 0.7}, {'position': [2.329295524999999, -9.383471475, 2.1445279018824746], 'direction': [0.0, -0.0, 1.0], 'maxDiameter': 2.81555, 'color': '#00fe2a', 'gRatio': 0.7}, {'position': [2.329295524999999, 8.220295525000001, -10.600052399394281], 'direction': [0.0, 0.0, 1.0], 'maxDiameter': 2.81555, 'color': '#0dff0b', 'gRatio': 0.7}, {'position': [-4.062774475, -4.7369444750000005, -1.7806737002159299], 'direction': [-0.0, -0.0, 1.0], 'maxDiameter': 2.741425, 'color': '#20f400', 'gRatio': 0.7}, {'position': [-0.45323447500000036, -0.016914475000000095, -1.2541939072401629], 'direction': [0.0, -0.0, 1.0], 'maxDiameter': 2.7228999999999997, 'color': '#33e800', 'gRatio': 0.7}, {'position': [8.600695524999999, 6.656095525, -4.483080373107565], 'direction': [0.0, -0.0, 1.0], 'maxDiameter': 2.681025, 'color': '#46dd00', 'gRatio': 0.7}, {'position': [-9.003142475, 6.656095525, 4.069476603755605], 'direction': [-0.0, 0.0, 1.0], 'maxDiameter': 2.681025, 'color': '#59d200', 'gRatio': 0.7}, {'position': [-1.7947244750000007, -3.8190344750000005, -9.262459015828098], 'direction': [0.0, -0.0, 1.0], 'maxDiameter': 2.6491, 'color': '#68d500', 'gRatio': 0.7}, {'position': [-5.939004475000001, 3.027595524999999, 4.714451724853584], 'direction': [-0.0, 0.0, 1.0], 'maxDiameter': 2.595825, 'color': '#6ede00', 'gRatio': 0.7}, {'position': [-2.153244475000001, 5.898395525, 0.7547447825004188], 'direction': [-0.0, 0.0, 1.0], 'maxDiameter': 2.5291750000000004, 'color': '#76eb00', 'gRatio': 0.7}, {'position': [-1.2735444750000005, 2.1232955249999996, -9.378148265455655], 'direction': [-0.0, 0.0, 1.0], 'maxDiameter': 2.48616, 'color': '#7cf500', 'gRatio': 0.7}, {'position': [-6.146754475000001, -4.481704475000001, 6.971831368897449], 'direction': [0.0, 0.0, 1.0], 'maxDiameter': 2.43361, 'color': '#84ff0c', 'gRatio': 0.7}, {'position': [9.212895525, 8.934895524999998, -7.4025655328353555], 'direction': [-0.0, -0.0, 1.0], 'maxDiameter': 2.40033, 'color': '#92ff18', 'gRatio': 0.7}, {'position': [-8.390912475, 8.934895524999998, 5.268933153223992], 'direction': [-0.0, 0.0, 1.0], 'maxDiameter': 2.40033, 'color': '#9fff24', 'gRatio': 0.7}, {'position': [-8.390912475, -8.668872475, -5.880374220102427], 'direction': [0.0, -0.0, 1.0], 'maxDiameter': 2.40033, 'color': '#adff30', 'gRatio': 0.7}, {'position': [9.212895525, -8.668872475, 1.1694224186762465], 'direction': [0.0, 0.0, 1.0], 'maxDiameter': 2.40033, 'color': '#bbff3c', 'gRatio': 0.7}, {'position': [-7.9055534750000005, 3.6835955249999994, -11.166163048890931], 'direction': [0.0, -0.0, 1.0], 'maxDiameter': 2.3728025, 'color': '#c8ff30', 'gRatio': 0.7}, {'position': [9.698295524999999, 3.6835955249999994, -9.160210547412255], 'direction': [-0.0, -0.0, 1.0], 'maxDiameter': 2.3728025, 'color': '#dbff20', 'gRatio': 0.7}, {'position': [2.305995525, 5.966795525, 1.6583598596664917], 'direction': [0.0, 0.0, 1.0], 'maxDiameter': 2.2425725, 'color': '#e8ff14', 'gRatio': 0.7}, {'position': [6.755395524999999, -4.177434475000001, 6.2792051299099025], 'direction': [-0.0, 0.0, 1.0], 'maxDiameter': 2.1067375, 'color': '#f6fd08', 'gRatio': 0.7}, {'position': [-0.41227447500000025, 5.258995525, 10.233088463567091], 'direction': [-0.0, 0.0, 1.0], 'maxDiameter': 2.1058075, 'color': '#fff500', 'gRatio': 0.7}, {'position': [-0.6050044750000012, -6.2940944750000005, 10.845091789221149], 'direction': [-0.0, 0.0, 1.0], 'maxDiameter': 2.1028525, 'color': '#ffee00', 'gRatio': 0.7}, {'position': [6.7315955249999995, 5.729995525, 6.500691538290232], 'direction': [0.0, 0.0, 1.0], 'maxDiameter': 1.9795125, 'color': '#ffe600', 'gRatio': 0.7}, {'position': [-7.423924475000001, -0.7478644750000001, 8.332201918031997], 'direction': [-0.0, 0.0, 1.0], 'maxDiameter': 1.9317725, 'color': '#ffdf00', 'gRatio': 0.7}, {'position': [1.0147655249999996, 1.067005524999999, -4.630606642017833], 'direction': [0.0, 0.0, 1.0], 'maxDiameter': 1.8019450000000001, 'color': '#ffd801', 'gRatio': 0.7}, {'position': [-1.0742844750000007, -1.7113644750000008, -5.3021752581657955], 'direction': [-0.0, 0.0, 1.0], 'maxDiameter': 1.7603499999999999, 'color': '#ffd004', 'gRatio': 0.7}, {'position': [-8.923326475000001, -0.365614475000001, -10.832083693314864], 'direction': [-0.0, 0.0, 1.0], 'maxDiameter': 1.7428850000000002, 'color': '#ffc609', 'gRatio': 0.7}, {'position': [8.680495524999998, -0.365614475000001, -11.44673806187769], 'direction': [-0.0, 0.0, 1.0], 'maxDiameter': 1.7428850000000002, 'color': '#ffbf0c', 'gRatio': 0.7}, {'position': [-1.1716344750000003, 3.8629955249999988, -8.671973524941162], 'direction': [0.0, 0.0, 1.0], 'maxDiameter': 1.7101625, 'color': '#ffb20d', 'gRatio': 0.7}, {'position': [3.754195525, 6.805795524999999, -5.396253096443021], 'direction': [-0.0, 0.0, 1.0], 'maxDiameter': 1.7087025, 'color': '#ff990a', 'gRatio': 0.7}, {'position': [7.015495524999999, -5.834794475000001, 8.586973433047957], 'direction': [0.0, -0.0, 1.0], 'maxDiameter': 1.65011, 'color': '#ff8107', 'gRatio': 0.7}, {'position': [0.7769255249999993, -1.2737544750000005, 4.655159298946289], 'direction': [0.0, -0.0, 1.0], 'maxDiameter': 1.6361575, 'color': '#ff6805', 'gRatio': 0.7}, {'position': [-0.20983447500000096, -4.767454475000001, 11.55139149866041], 'direction': [0.0, -0.0, 1.0], 'maxDiameter': 1.56603, 'color': '#ff5002', 'gRatio': 0.7}, {'position': [-6.649274475, -2.9031144750000006, -0.5817304689589218], 'direction': [-0.0, -0.0, 1.0], 'maxDiameter': 1.55392, 'color': '#ff3e00', 'gRatio': 0.7}, {'position': [7.9011955249999986, 1.8894955249999992, 11.270030695400441], 'direction': [-0.0, 0.0, 1.0], 'maxDiameter': 1.5100625, 'color': '#ff2b00', 'gRatio': 0.7}, {'position': [-4.605864475000001, 1.9548955249999995, -3.062207546736321], 'direction': [-0.0, -0.0, 1.0], 'maxDiameter': 1.4965775000000001, 'color': '#ff1d00', 'gRatio': 0.7}, {'position': [-2.8520444750000005, 1.6568955249999995, -1.8362713267216613], 'direction': [0.0, 0.0, 1.0], 'maxDiameter': 1.4224925, 'color': '#ff0e00', 'gRatio': 0.7}, {'position': [-3.7680244750000007, 5.846095524999999, 1.3184738320120317], 'direction': [-0.0, -0.0, 1.0], 'maxDiameter': 1.400585, 'color': '#ff0023', 'gRatio': 0.7}, {'position': [-8.434775475, 5.102795524999999, 0.6593475946719263], 'direction': [0.0, -0.0, 1.0], 'maxDiameter': 1.37045, 'color': '#ff0058', 'gRatio': 0.7}, {'position': [9.168995525, 5.102795524999999, 8.483433013299338], 'direction': [-0.0, 0.0, 1.0], 'maxDiameter': 1.37045, 'color': '#ff008e', 'gRatio': 0.7}, {'position': [-5.550824475000001, 7.996295525000001, 9.577079177005833], 'direction': [0.0, -0.0, 1.0], 'maxDiameter': 1.2980575, 'color': '#ff00c3', 'gRatio': 0.7}, {'position': [0.8621055249999987, 5.708795524999999, -1.5532267415776424], 'direction': [-0.0, -0.0, 1.0], 'maxDiameter': 1.2653925, 'color': '#ff00f8', 'gRatio': 0.7}, {'position': [-6.921244475000001, 8.121095524999998, -1.6833193261656003], 'direction': [-0.0, -0.0, 1.0], 'maxDiameter': 1.2598175, 'color': '#e40eff', 'gRatio': 0.7}, {'position': [-1.7939744750000006, -5.390384475000001, -8.411987436724003], 'direction': [-0.0, -0.0, 1.0], 'maxDiameter': 1.2384625, 'color': '#cf18ff', 'gRatio': 0.7}, {'position': [8.310795525, -7.0209144750000005, 5.420083001704951], 'direction': [0.0, 0.0, 1.0], 'maxDiameter': 1.211825, 'color': '#ba22ff', 'gRatio': 0.7}, {'position': [3.356395525, -4.091434475000001, -3.6581604925566067], 'direction': [0.0, -0.0, 1.0], 'maxDiameter': 1.19478, 'color': '#a62dff', 'gRatio': 0.7}, {'position': [0.006605524999999446, -7.487004475000001, -8.370217722314132], 'direction': [0.0, -0.0, 1.0], 'maxDiameter': 1.1601225, 'color': '#aa3ffb', 'gRatio': 0.7}, {'position': [-1.8889244750000005, 0.778785525, -7.320923720590375], 'direction': [0.0, 0.0, 1.0], 'maxDiameter': 1.1484800000000002, 'color': '#bc50f8', 'gRatio': 0.7}, {'position': [-5.993924475, 1.3771955249999994, -4.917935997965929], 'direction': [-0.0, 0.0, 1.0], 'maxDiameter': 1.0459475, 'color': '#ce62f4', 'gRatio': 0.7}, {'position': [1.0644055249999997, 6.603495525, -2.9562064132862], 'direction': [0.0, 0.0, 1.0], 'maxDiameter': 1.0242850000000001, 'color': '#e074f1', 'gRatio': 0.7}, {'position': [-6.591734475000001, 0.4233255249999992, -1.161184927669467], 'direction': [-0.0, -0.0, 1.0], 'maxDiameter': 1.0173675, 'color': '#ed89ef', 'gRatio': 0.7}, {'position': [-7.733454475, 7.593195524999999, 10.973443507407959], 'direction': [-0.0, -0.0, 1.0], 'maxDiameter': 0.8831849999999999, 'color': '#ef97f1', 'gRatio': 0.7}, {'position': [8.087595525000001, 5.292195524999999, 4.593045333174308], 'direction': [0.0, -0.0, 1.0], 'maxDiameter': 0.8726775, 'color': '#f1a5f3', 'gRatio': 0.7}, {'position': [-7.018534475000001, -2.013984475000001, 10.487424565644266], 'direction': [-0.0, 0.0, 1.0], 'maxDiameter': 0.8209075, 'color': '#f3b3f5', 'gRatio': 0.7}, {'position': [2.4860955249999996, -3.7702344750000005, -1.0446049288730013], 'direction': [0.0, -0.0, 1.0], 'maxDiameter': 0.7977974999999999, 'color': '#f5c0f7', 'gRatio': 0.7}, {'position': [5.759495525, 3.1160955249999986, -4.837515763391434], 'direction': [0.0, -0.0, 1.0], 'maxDiameter': 0.7856725, 'color': '#f8cef9', 'gRatio': 0.7}, {'position': [4.181995525, -6.321994475, -6.163052387454134], 'direction': [-0.0, -0.0, 1.0], 'maxDiameter': 0.74945, 'color': '#fadcfa', 'gRatio': 0.7}, {'position': [-7.488824475, -3.6284444750000002, -3.1233750150302715], 'direction': [-0.0, -0.0, 1.0], 'maxDiameter': 0.6574025, 'color': '#fceafc', 'gRatio': 0.7}, {'position': [1.273695524999999, -8.388121475, 6.84481688656947], 'direction': [0.0, -0.0, 1.0], 'maxDiameter': 0.56313, 'color': '#fef8fe', 'gRatio': 0.7}], 'cells': []}\n"
     ]
    }
   ],
   "source": [
    "paths_config_files_with_cells = []\n",
    "\n",
    "for path_config_oi in paths_config_files:\n",
    "\n",
    "    path_config_oi_with_cells = utils_cells.add_cells_to_config(\n",
    "        path_config_oi, \n",
    "        parameters[\"targetCVF\"],\n",
    "        parameters[\"l1_mean\"], \n",
    "        parameters[\"l1_std\"], \n",
    "        parameters[\"l2_mean\"], \n",
    "        parameters[\"l2_std\"],\n",
    "        parameters[\"rotationLim\"]\n",
    "    )\n",
    "\n",
    "    # path_config_oi_with_cells = path_config_oi.replace('.json', '-with_cells.json')\n",
    "\n",
    "    paths_config_files_with_cells.append(path_config_oi_with_cells)\n",
    "\n",
    "    # with open(path_config_oi_with_cells, 'w') as f:\n",
    "    #     f.write(json.dumps(config_with_cells))\n",
    "\n",
    "    # json.dump(config_with_cells, open(path_config_oi_with_cells, 'w'), indent=4)\n",
    "\n",
    "paths_config_files += paths_config_files_with_cells"
   ]
  },
  {
   "cell_type": "markdown",
   "metadata": {},
   "source": [
    "# GENERATE PHANTOMS BASED ON THE CONFIG-FILES"
   ]
  },
  {
   "cell_type": "code",
   "execution_count": null,
   "metadata": {},
   "outputs": [
    {
     "name": "stdout",
     "output_type": "stream",
     "text": [
      "path_config:  ../output/cylinders-alpha=4.0-beta=0.225-targetFVF=0.8-num_cylinders=80-mode_fiber=sheets-fiber0-frac=1.0-orientation=[0,0,1]-epsilon=0.0/rep_00-stage=0-with_cells.json\n",
      "[LOG] counter =  0\n",
      "white-matter-generator -f ../output/cylinders-alpha=4.0-beta=0.225-targetFVF=0.8-num_cylinders=80-mode_fiber=sheets-fiber0-frac=1.0-orientation=[0,0,1]-epsilon=0.0/rep_00-stage=0-with_cells.json -i 5 -o 5 -v 0.8 -d ../output/cylinders-alpha=4.0-beta=0.225-targetFVF=0.8-num_cylinders=80-mode_fiber=sheets-fiber0-frac=1.0-orientation=[0,0,1]-epsilon=0.0/rep_00-stage=0-with_cells_output -r 16 -b false -s true -x false -e multiple -w 100\n",
      "Iterations            Axon volume fraction  Cell volume fraction  Total volume fraction Time                  \n",
      "1 / 5                 0.44                  0.12                  0.56 / 0.8            Sun, 21 Jul 2024 18:38:00 GMT\n",
      "2 / 5                 0.46                  0.12                  0.58 / 0.8            Sun, 21 Jul 2024 18:38:02 GMT\n",
      "3 / 5                 0.48                  0.12                  0.60 / 0.8            Sun, 21 Jul 2024 18:38:04 GMT\n",
      "4 / 5                 0.50                  0.12                  0.62 / 0.8            Sun, 21 Jul 2024 18:38:05 GMT\n",
      "5 / 5                 0.52                  0.12                  0.64 / 0.8            Sun, 21 Jul 2024 18:38:06 GMT\n",
      "Number of max iterations reached\n",
      "time consumption: 9.24 s\n",
      "[LOG] counter =  1\n",
      "ellipsoidDensityScaler 0.5\n",
      "white-matter-generator -f ../output/cylinders-alpha=4.0-beta=0.225-targetFVF=0.8-num_cylinders=80-mode_fiber=sheets-fiber0-frac=1.0-orientation=[0,0,1]-epsilon=0.0/rep_00-stage=1-with_cells.json -i 7 -o 7 -v 0.8 -d ../output/cylinders-alpha=4.0-beta=0.225-targetFVF=0.8-num_cylinders=80-mode_fiber=sheets-fiber0-frac=1.0-orientation=[0,0,1]-epsilon=0.0/rep_00-stage=1-with_cells_output -r 16 -b false -s true -x false -e multiple -w 100\n",
      "Iterations            Axon volume fraction  Cell volume fraction  Total volume fraction Time                  \n",
      "1 / 7                 0.53                  0.12                  0.65 / 0.8            Sun, 21 Jul 2024 18:38:09 GMT\n",
      "2 / 7                 0.53                  0.12                  0.65 / 0.8            Sun, 21 Jul 2024 18:38:11 GMT\n",
      "3 / 7                 0.54                  0.12                  0.66 / 0.8            Sun, 21 Jul 2024 18:38:13 GMT\n",
      "4 / 7                 0.55                  0.12                  0.67 / 0.8            Sun, 21 Jul 2024 18:38:15 GMT\n",
      "5 / 7                 0.56                  0.12                  0.68 / 0.8            Sun, 21 Jul 2024 18:38:17 GMT\n",
      "6 / 7                 0.57                  0.12                  0.69 / 0.8            Sun, 21 Jul 2024 18:38:19 GMT\n",
      "7 / 7                 0.57                  0.12                  0.69 / 0.8            Sun, 21 Jul 2024 18:38:21 GMT\n",
      "Number of max iterations reached\n",
      "time consumption: 14.80 s\n",
      "[LOG] counter =  2\n",
      "ellipsoidDensityScaler 0.25\n",
      "white-matter-generator -f ../output/cylinders-alpha=4.0-beta=0.225-targetFVF=0.8-num_cylinders=80-mode_fiber=sheets-fiber0-frac=1.0-orientation=[0,0,1]-epsilon=0.0/rep_00-stage=2-with_cells.json -i 4 -o 4 -v 0.8 -d ../output/cylinders-alpha=4.0-beta=0.225-targetFVF=0.8-num_cylinders=80-mode_fiber=sheets-fiber0-frac=1.0-orientation=[0,0,1]-epsilon=0.0/rep_00-stage=2-with_cells_output -r 16 -b false -s true -x false -e multiple -w 100\n",
      "Iterations            Axon volume fraction  Cell volume fraction  Total volume fraction Time                  \n",
      "1 / 4                 0.63                  0.12                  0.75 / 0.8            Sun, 21 Jul 2024 18:38:30 GMT\n",
      "2 / 4                 0.64                  0.12                  0.76 / 0.8            Sun, 21 Jul 2024 18:38:38 GMT\n",
      "3 / 4                 0.64                  0.12                  0.76 / 0.8            Sun, 21 Jul 2024 18:38:47 GMT\n",
      "4 / 4                 0.64                  0.12                  0.76 / 0.8            Sun, 21 Jul 2024 18:38:57 GMT\n",
      "Number of max iterations reached\n",
      "time consumption: 37.12 s\n",
      "[LOG] counter =  3\n",
      "ellipsoidDensityScaler 0.2\n",
      "white-matter-generator -f ../output/cylinders-alpha=4.0-beta=0.225-targetFVF=0.8-num_cylinders=80-mode_fiber=sheets-fiber0-frac=1.0-orientation=[0,0,1]-epsilon=0.0/rep_00-stage=3-with_cells.json -i 2 -o 2 -v 0.8 -d ../output/cylinders-alpha=4.0-beta=0.225-targetFVF=0.8-num_cylinders=80-mode_fiber=sheets-fiber0-frac=1.0-orientation=[0,0,1]-epsilon=0.0/rep_00-stage=3-with_cells_output -r 16 -b false -s true -x false -e multiple -w 100\n",
      "Iterations            Axon volume fraction  Cell volume fraction  Total volume fraction Time                  \n",
      "1 / 2                 0.65                  0.12                  0.77 / 0.8            Sun, 21 Jul 2024 18:39:16 GMT\n",
      "2 / 2                 0.65                  0.12                  0.77 / 0.8            Sun, 21 Jul 2024 18:39:31 GMT\n",
      "Number of max iterations reached\n",
      "time consumption: 33.90 s\n",
      "path_config:  ../output/cylinders-alpha=4.0-beta=0.225-targetFVF=0.8-num_cylinders=80-mode_fiber=sheets-fiber0-frac=1.0-orientation=[0,0,1]-epsilon=0.0/rep_01-stage=0-with_cells.json\n",
      "[LOG] counter =  0\n",
      "white-matter-generator -f ../output/cylinders-alpha=4.0-beta=0.225-targetFVF=0.8-num_cylinders=80-mode_fiber=sheets-fiber0-frac=1.0-orientation=[0,0,1]-epsilon=0.0/rep_01-stage=0-with_cells.json -i 5 -o 5 -v 0.8 -d ../output/cylinders-alpha=4.0-beta=0.225-targetFVF=0.8-num_cylinders=80-mode_fiber=sheets-fiber0-frac=1.0-orientation=[0,0,1]-epsilon=0.0/rep_01-stage=0-with_cells_output -r 16 -b false -s true -x false -e multiple -w 100\n",
      "Iterations            Axon volume fraction  Cell volume fraction  Total volume fraction Time                  \n",
      "1 / 5                 0.44                  0.17                  0.62 / 0.8            Sun, 21 Jul 2024 18:39:37 GMT\n",
      "2 / 5                 0.47                  0.17                  0.65 / 0.8            Sun, 21 Jul 2024 18:39:40 GMT\n",
      "3 / 5                 0.48                  0.17                  0.66 / 0.8            Sun, 21 Jul 2024 18:39:42 GMT\n",
      "4 / 5                 0.49                  0.17                  0.67 / 0.8            Sun, 21 Jul 2024 18:39:45 GMT\n",
      "5 / 5                 0.51                  0.17                  0.68 / 0.8            Sun, 21 Jul 2024 18:39:48 GMT\n",
      "Number of max iterations reached\n",
      "time consumption: 15.08 s\n",
      "[LOG] counter =  1\n",
      "ellipsoidDensityScaler 0.5\n",
      "white-matter-generator -f ../output/cylinders-alpha=4.0-beta=0.225-targetFVF=0.8-num_cylinders=80-mode_fiber=sheets-fiber0-frac=1.0-orientation=[0,0,1]-epsilon=0.0/rep_01-stage=1-with_cells.json -i 7 -o 7 -v 0.8 -d ../output/cylinders-alpha=4.0-beta=0.225-targetFVF=0.8-num_cylinders=80-mode_fiber=sheets-fiber0-frac=1.0-orientation=[0,0,1]-epsilon=0.0/rep_01-stage=1-with_cells_output -r 16 -b false -s true -x false -e multiple -w 100\n",
      "Iterations            Axon volume fraction  Cell volume fraction  Total volume fraction Time                  \n",
      "1 / 7                 0.51                  0.17                  0.68 / 0.8            Sun, 21 Jul 2024 18:39:52 GMT\n",
      "2 / 7                 0.51                  0.17                  0.69 / 0.8            Sun, 21 Jul 2024 18:39:55 GMT\n",
      "3 / 7                 0.52                  0.17                  0.69 / 0.8            Sun, 21 Jul 2024 18:39:58 GMT\n",
      "4 / 7                 0.53                  0.17                  0.70 / 0.8            Sun, 21 Jul 2024 18:40:00 GMT\n",
      "5 / 7                 0.53                  0.17                  0.70 / 0.8            Sun, 21 Jul 2024 18:40:02 GMT\n",
      "6 / 7                 0.53                  0.17                  0.71 / 0.8            Sun, 21 Jul 2024 18:40:04 GMT\n",
      "7 / 7                 0.54                  0.17                  0.71 / 0.8            Sun, 21 Jul 2024 18:40:07 GMT\n",
      "Number of max iterations reached\n",
      "time consumption: 18.63 s\n",
      "[LOG] counter =  2\n",
      "ellipsoidDensityScaler 0.25\n",
      "white-matter-generator -f ../output/cylinders-alpha=4.0-beta=0.225-targetFVF=0.8-num_cylinders=80-mode_fiber=sheets-fiber0-frac=1.0-orientation=[0,0,1]-epsilon=0.0/rep_01-stage=2-with_cells.json -i 4 -o 4 -v 0.8 -d ../output/cylinders-alpha=4.0-beta=0.225-targetFVF=0.8-num_cylinders=80-mode_fiber=sheets-fiber0-frac=1.0-orientation=[0,0,1]-epsilon=0.0/rep_01-stage=2-with_cells_output -r 16 -b false -s true -x false -e multiple -w 100\n",
      "Iterations            Axon volume fraction  Cell volume fraction  Total volume fraction Time                  \n",
      "1 / 4                 0.58                  0.17                  0.76 / 0.8            Sun, 21 Jul 2024 18:40:17 GMT\n",
      "2 / 4                 0.59                  0.17                  0.76 / 0.8            Sun, 21 Jul 2024 18:40:27 GMT\n",
      "3 / 4                 0.59                  0.17                  0.76 / 0.8            Sun, 21 Jul 2024 18:40:36 GMT\n",
      "4 / 4                 0.59                  0.17                  0.77 / 0.8            Sun, 21 Jul 2024 18:40:46 GMT\n",
      "Number of max iterations reached\n",
      "time consumption: 40.64 s\n",
      "[LOG] counter =  3\n",
      "ellipsoidDensityScaler 0.2\n",
      "white-matter-generator -f ../output/cylinders-alpha=4.0-beta=0.225-targetFVF=0.8-num_cylinders=80-mode_fiber=sheets-fiber0-frac=1.0-orientation=[0,0,1]-epsilon=0.0/rep_01-stage=3-with_cells.json -i 2 -o 2 -v 0.8 -d ../output/cylinders-alpha=4.0-beta=0.225-targetFVF=0.8-num_cylinders=80-mode_fiber=sheets-fiber0-frac=1.0-orientation=[0,0,1]-epsilon=0.0/rep_01-stage=3-with_cells_output -r 16 -b false -s true -x false -e multiple -w 100\n",
      "Iterations            Axon volume fraction  Cell volume fraction  Total volume fraction Time                  \n",
      "1 / 2                 0.60                  0.17                  0.77 / 0.8            Sun, 21 Jul 2024 18:41:03 GMT\n",
      "2 / 2                 0.60                  0.17                  0.78 / 0.8            Sun, 21 Jul 2024 18:41:17 GMT\n",
      "Number of max iterations reached\n",
      "time consumption: 30.55 s\n"
     ]
    }
   ],
   "source": [
    "for path_config in paths_config_files[2:]:\n",
    "\n",
    "    print('path_config: ', path_config)\n",
    "\n",
    "    targetFVF = float(path_config.split('targetFVF=')[-1].split('-')[0])\n",
    "\n",
    "    for counter, (eDS, mI, gS, oI) in enumerate(zip(\n",
    "        parameters[\"ellipsoidDensityScalers\"], \n",
    "        parameters[\"maxIterations\"], \n",
    "        parameters[\"growSpeeds\"],\n",
    "        parameters[\"outputIntervals\"],\n",
    "    )):\n",
    "        \n",
    "        print('[LOG] counter = ', counter)\n",
    "\n",
    "        if counter > 0 :\n",
    "\n",
    "            path_config_out_prev = os.path.join(path_output, np.sort([n for n in os.listdir(path_output) if ('.json' in n) and ('config_output' in n)])[-1])\n",
    "\n",
    "            path_config_new = path_config.replace(f'stage={counter-1}', f'stage={counter}')\n",
    "\n",
    "            print('ellipsoidDensityScaler', eDS)\n",
    "            mapFromMaxDiameterToEllipsoidSeparation = {'from': [1.0, 2.0],\n",
    "                                                       'to': [1.0*eDS, 2.0*eDS],}\n",
    "            utils.edit_config_file(path_config_out_prev, path_config_new, 'mapFromMaxDiameterToEllipsoidSeparation', mapFromMaxDiameterToEllipsoidSeparation)\n",
    "            utils.edit_config_file(path_config_new, path_config_new, 'growSpeed', gS)\n",
    "\n",
    "            path_config = path_config_new\n",
    "\n",
    "        time0 = time.time()\n",
    "\n",
    "        path_output = path_config.replace('.json', '_output')\n",
    "\n",
    "        print(\n",
    "            f\"white-matter-generator -f {path_config} -i {mI} -o {oI}\" +\\\n",
    "            f\" -v {targetFVF} -d {path_output} -r {parameters['outputResolution']} -b {parameters['outputBinary']}\" +\\\n",
    "            f\" -s {parameters['outputSimpleMesh']} -x {parameters['extendAxons']} -e {parameters['exportAs']} -w {parameters['maxIterationsWithoutImprovement']}\"\n",
    "        )\n",
    "\n",
    "        os.system(\n",
    "            f\"white-matter-generator -f {path_config} -i {mI} -o {oI}\" +\\\n",
    "            f\" -v {targetFVF} -d {path_output} -r {parameters['outputResolution']} -b {parameters['outputBinary']}\" +\\\n",
    "            f\" -s {parameters['outputSimpleMesh']} -x {parameters['extendAxons']} -e {parameters['exportAs']} -w {parameters['maxIterationsWithoutImprovement']}\"\n",
    "        )\n",
    "\n",
    "        print('time consumption: %.2f s' %(time.time() - time0))"
   ]
  },
  {
   "cell_type": "code",
   "execution_count": null,
   "metadata": {},
   "outputs": [],
   "source": []
  }
 ],
 "metadata": {
  "kernelspec": {
   "display_name": "Python 3 (ipykernel)",
   "language": "python",
   "name": "python3"
  },
  "language_info": {
   "codemirror_mode": {
    "name": "ipython",
    "version": 3
   },
   "file_extension": ".py",
   "mimetype": "text/x-python",
   "name": "python",
   "nbconvert_exporter": "python",
   "pygments_lexer": "ipython3",
   "version": "3.10.12"
  }
 },
 "nbformat": 4,
 "nbformat_minor": 4
}
