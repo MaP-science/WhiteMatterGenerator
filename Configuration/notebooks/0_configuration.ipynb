{
 "cells": [
  {
   "cell_type": "code",
   "execution_count": 1,
   "metadata": {},
   "outputs": [],
   "source": [
    "%load_ext autoreload\n",
    "%autoreload 2"
   ]
  },
  {
   "cell_type": "code",
   "execution_count": 2,
   "metadata": {},
   "outputs": [
    {
     "name": "stderr",
     "output_type": "stream",
     "text": [
      "/home/siwin/code/WhiteMatterGenerator/Configuration/.venv/lib/python3.10/site-packages/tqdm/auto.py:21: TqdmWarning: IProgress not found. Please update jupyter and ipywidgets. See https://ipywidgets.readthedocs.io/en/stable/user_install.html\n",
      "  from .autonotebook import tqdm as notebook_tqdm\n"
     ]
    }
   ],
   "source": [
    "import os\n",
    "import sys\n",
    "import numpy as np\n",
    "import time\n",
    "import json5 as json\n",
    "\n",
    "sys.path.append('../')\n",
    "# from src import utils\n",
    "# from src import utils_cells\n",
    "from src import config_utils"
   ]
  },
  {
   "cell_type": "markdown",
   "metadata": {},
   "source": [
    "# SET PATHS"
   ]
  },
  {
   "cell_type": "code",
   "execution_count": 3,
   "metadata": {},
   "outputs": [],
   "source": [
    "# path_output = '../output'\n",
    "path_parameter_config = '../configs/example.conf'\n",
    "\n",
    "path_project = '../'\n",
    "path_output = os.path.join(path_project, 'output')"
   ]
  },
  {
   "cell_type": "markdown",
   "metadata": {},
   "source": [
    "# LOAD PARAMETERS"
   ]
  },
  {
   "cell_type": "code",
   "execution_count": 4,
   "metadata": {},
   "outputs": [
    {
     "data": {
      "text/plain": [
       "{'targetFVFs': [0.8],\n",
       " 'growSpeeds': [0.02, 0.01, 0.01, 0.01],\n",
       " 'contractSpeed': 0.1,\n",
       " 'maxIterations': [5, 7, 4, 2],\n",
       " 'maxIterationsWithoutImprovement': 100,\n",
       " 'outputIntervals': [5, 7, 4, 2],\n",
       " 'ellipsoidDensityScalers': [0.5, 0.5, 0.25, 0.2],\n",
       " 'outputResolution': 16,\n",
       " 'outputBinary': 'false',\n",
       " 'outputSimpleMesh': 'true',\n",
       " 'extendAxons': 'false',\n",
       " 'exportAs': 'multiple',\n",
       " 'nRepetitions': 2,\n",
       " 'minimumDistance': 0.07,\n",
       " 'targetAxonCount': [80],\n",
       " 'alphas': [4.0],\n",
       " 'betas': [0.225],\n",
       " 'mapFromMaxDiameterToMinDiameter': {'from': [1.25, 2.25], 'to': [0.5, 1.0]},\n",
       " 'mapFromDiameterToDeformationFactor': {'from': [0.1, 1.0],\n",
       "  'to': [0.66, 0.66]},\n",
       " 'fiberMode': 'sheets',\n",
       " 'fibers': {'fiber0': {'frac': 1.0, 'orientation': [0, 0, 1], 'epsilon': 0.0}},\n",
       " 'targetCVF': 0.05,\n",
       " 'l1_mean': 13.0,\n",
       " 'l1_std': 2.0,\n",
       " 'l2_mean': 5.0,\n",
       " 'l2_std': 1.0,\n",
       " 'rotationLim': 23}"
      ]
     },
     "execution_count": 4,
     "metadata": {},
     "output_type": "execute_result"
    }
   ],
   "source": [
    "with open(path_parameter_config, 'r') as file:\n",
    "\n",
    "    parameters = json.load(file)\n",
    "\n",
    "parameters"
   ]
  },
  {
   "cell_type": "markdown",
   "metadata": {},
   "source": [
    "# GENERATE INITIAL CONFIG-FILES"
   ]
  },
  {
   "cell_type": "markdown",
   "metadata": {},
   "source": [
    "#### GENERATE CONFIG-FILES (WITHOUT CELLS)"
   ]
  },
  {
   "cell_type": "code",
   "execution_count": 5,
   "metadata": {},
   "outputs": [
    {
     "name": "stdout",
     "output_type": "stream",
     "text": [
      "[LOG] Generating 2 substrate(s) under the name: cylinders-alpha=4.0-beta=0.225-targetFVF=0.8-num_cylinders=80-mode_fiber=sheets-fiber0-frac=1.0-orientation=[0,0,1]-epsilon=0.0\n",
      "\n"
     ]
    },
    {
     "name": "stderr",
     "output_type": "stream",
     "text": [
      "  0%|          | 0/2 [00:00<?, ?it/s]"
     ]
    },
    {
     "name": "stdout",
     "output_type": "stream",
     "text": [
      "\u001b[1;35m/*************************************  MCDC.conf ************************/\n",
      "\u001b[0m\u001b[0;32m[INFO]\u001b[0m    Checking configuration file labels...\n",
      "\u001b[0;32m[INFO]\u001b[0m    Done...\n",
      "\u001b[1;43m[Warning]\u001b[0m Parameter: 0 Unknown\n",
      "\u001b[1;35m/***************   MC/DC Simulation parameters check out:  ***************/\u001b[0m\n",
      "\u001b[1;43m[Warning]\u001b[0m The number of processors to be used (12) is higher than the physical available processors (8).\n",
      "\u001b[0;32m[INFO]\u001b[0m    Checking Sequence Scheme file format...\n",
      "\u001b[0;32m[INFO]\u001b[0m    Done...\n",
      "\u001b[0;32m[INFO]\u001b[0m    Checking Ouput format...\n",
      "\u001b[0;32m[INFO]\u001b[0m    Done...\n",
      "\u001b[1;35m/********************   MC/DC Simulation Info:   *************************/\u001b[0m\n",
      "\u001b[0;32m[INFO]   \u001b[0m Software Version:      -------------------------------1.42.14_wf\n",
      "\u001b[0;32m[INFO]   \u001b[0m Number of particles:   ----------------------------------------1\n",
      "\u001b[0;32m[INFO]   \u001b[0m Number of steps:       ----------------------------------------1\n",
      "\u001b[0;32m[INFO]   \u001b[0m Number of cores:       ---------------------------------------12\n",
      "\u001b[0;32m[INFO]   \u001b[0m Diffusivity:           ------------------------0.000001e-9 m^2/s\n",
      "\u001b[0;32m[INFO]   \u001b[0m Particle dynamics duration: ------------------------ 0.010000 ms\n",
      "\u001b[0;32m[INFO]   \u001b[0m PLY obstacles:         ----------------------------------- false\n",
      "\u001b[0;32m[INFO]   \u001b[0m Cylinder obstacles:    ----------------------------------- false\n",
      "\u001b[0;32m[INFO]   \u001b[0m Gamma Configuration:   -------------------------------------true\n",
      "\u001b[0;32m[INFO]   \u001b[0m Write trajfile:        ----------------------------------- false\n",
      "\u001b[0;32m[INFO]   \u001b[0m Write to binary:       ------------------------------------ true\n",
      "\u001b[0;32m[INFO]   \u001b[0m Write to txt:          ----------------------------------- false\n",
      "\u001b[0;32m[INFO]   \u001b[0m Standard units:        ------------------------------------ true\n",
      "\u001b[0;32m[INFO]   \u001b[0m Permeability:          ----------------------------------- false\n",
      "\u001b[0;32m[INFO]   \u001b[0m Custom seed:           ----------------------------------- false\n",
      "\u001b[0;32m[INFO]   \u001b[0m Write phase shift histogram: ----------------------------- false\n",
      "\u001b[0;32m[INFO]   \u001b[0m Write propagator file: ----------------------------------- false\n",
      "\u001b[0;32m[INFO]   \u001b[0m Walker initial position file: ---------------------------- false\n",
      "\u001b[0;32m[INFO]   \u001b[0m Save fixed walker positions: ----------------------------- false\n",
      "\u001b[0;32m[INFO]   \u001b[0m Initial delta position: ---------------------------------- false\n",
      "\u001b[0;32m[INFO]   \u001b[0m Number of voxels:      --------------------------------------- 0\n",
      "\u001b[0;32m[INFO]   \u001b[0m Border Patrol          -------------------------------------- On\n",
      "\u001b[0;32m[INFO]   \u001b[0m Discard stuck spins    -------------------------------------- On\n",
      "\u001b[0;32m[INFO]   \u001b[0m Scheme file name:      ---------------------------- dummy.scheme\n",
      "\u001b[0;32m[INFO]   \u001b[0m Date and Time:         ------------------- 21-07-2024 (21:10:19)\n",
      "\n",
      "\u001b[0;32m[INFO]\u001b[0m    Initialializing Gamma distribution (4.000000,0.225000).\n",
      "\n",
      "\u001b[0;32m[INFO]\u001b[0m    0-1: *****************************************************************\n",
      "\u001b[0;32m[INFO]\u001b[0m    1-2: ********************************\n",
      "\u001b[0;32m[INFO]\u001b[0m    2-3: **\n",
      "\u001b[0;32m[INFO]\u001b[0m    3-4: \n",
      "\u001b[0;32m[INFO]\u001b[0m    4-5: \n",
      "\u001b[0;32m[INFO]\u001b[0m    5-6: \n",
      "\u001b[0;32m[INFO]\u001b[0m    6-7: \n",
      "\u001b[0;32m[INFO]\u001b[0m    7-8: \n",
      "\u001b[0;32m[INFO]\u001b[0m    8-9: \n",
      "\u001b[0;32m[INFO]\u001b[0m    9-10:\n",
      "\u001b[0;32m[INFO]\u001b[0m    >10: \n",
      "\n",
      "0.74829\n",
      "0.754912\n",
      "0.758286\n",
      "0.758405\n",
      "0.758704\n"
     ]
    },
    {
     "name": "stderr",
     "output_type": "stream",
     "text": [
      " 50%|█████     | 1/2 [00:02<00:02,  2.25s/it]"
     ]
    },
    {
     "name": "stdout",
     "output_type": "stream",
     "text": [
      "0.765062\n",
      "Percentage of cylinders selected: 81.250000%,\n",
      "ICVF achieved: 76.506216  (95% of the desired icvf)\n",
      "\n",
      "\u001b[0;32m[INFO]\u001b[0m    Done.\n",
      "\n",
      "\u001b[0;32m[INFO]\u001b[0m     Sim: 0 Initialized\n",
      "\u001b[0;32m[INFO]\u001b[0m     Sim: 1 Initialized\n",
      "\u001b[0;32m[INFO]\u001b[0m     Sim: 2 Initialized\n",
      "\u001b[0;32m[INFO]\u001b[0m     Sim: 3 Initialized\n",
      "\u001b[0;32m[INFO]\u001b[0m     Sim: 4 Initialized\n",
      "\u001b[0;32m[INFO]\u001b[0m     Sim: 5 Initialized\n",
      "\u001b[0;32m[INFO]\u001b[0m     Sim: 6 Initialized\n",
      "\u001b[0;32m[INFO]\u001b[0m     Sim: 7 Initialized\n",
      "\u001b[0;32m[INFO]\u001b[0m     Sim: 8 Initialized\n",
      "\u001b[0;32m[INFO]\u001b[0m     Sim: 9 Initialized\n",
      "\u001b[0;32m[INFO]\u001b[0m     Sim: 10 Initialized\n",
      "\u001b[0;32m[INFO]\u001b[0m     Sim: 11 Initialized\n",
      "\u001b[1;35m/********************   MC/DC Simulation START:  *************************/\u001b[0m\n",
      "\u001b[0;32m[INFO]\u001b[0m     Sim: 1 Simulation ended after: 0 seconds seconds\n",
      "\u001b[0;32m[INFO]\u001b[0m     Sim: 0 Simulation ended after: 0 seconds seconds\n",
      "\u001b[0;32m[INFO]\u001b[0m     Sim: 6 Simulation ended after: 0 seconds seconds\n",
      "\u001b[0;32m[INFO]\u001b[0m     Sim: 4 Simulation ended after: 0 seconds seconds\n",
      "\u001b[0;32m[INFO]\u001b[0m     Sim: 5 Simulation ended after: 0 seconds seconds\n",
      "\u001b[0;32m[INFO]\u001b[0m     Sim: 3 Simulation ended after: 0 seconds seconds\n",
      "\u001b[0;32m[INFO]\u001b[0m     Sim: 7 Simulation ended after: 0 seconds seconds\n",
      "\u001b[0;32m[INFO]\u001b[0m     Sim: 2 Simulation ended after: 0 seconds seconds\n",
      "\u001b[0;32m[INFO]\u001b[0m     Sim: 9 Simulation ended after: 0 seconds seconds\n",
      "\u001b[0;32m[INFO]\u001b[0m     Sim: 10 Simulation ended after: 0 seconds seconds\n",
      "\u001b[0;32m[INFO]\u001b[0m     Sim: 8 Simulation ended after: 0 seconds seconds\n",
      "\u001b[0;32m[INFO]\u001b[0m    [Completed: 0%] [ETA: Unknown] ( ? steps/second)\u001b[0;32m[INFO]\u001b[0m     Sim: 11 Simulation ended after: 0 seconds seconds\n",
      "\u001b[0;32m[INFO]\u001b[0m     All 12 simulations ended after: 0 seconds in average\n",
      "\u001b[0;32m[INFO]\u001b[0m     Joining resulting data... \n",
      "\u001b[0;32m[INFO]\u001b[0m     Done.\n",
      "\u001b[1;35m/*************************************  MCDC.conf ************************/\n",
      "\u001b[0m\u001b[0;32m[INFO]\u001b[0m    Checking configuration file labels...\n",
      "\u001b[0;32m[INFO]\u001b[0m    Done...\n",
      "\u001b[1;43m[Warning]\u001b[0m Parameter: 0 Unknown\n",
      "\u001b[1;35m/***************   MC/DC Simulation parameters check out:  ***************/\u001b[0m\n",
      "\u001b[1;43m[Warning]\u001b[0m The number of processors to be used (12) is higher than the physical available processors (8).\n",
      "\u001b[0;32m[INFO]\u001b[0m    Checking Sequence Scheme file format...\n",
      "\u001b[0;32m[INFO]\u001b[0m    Done...\n",
      "\u001b[0;32m[INFO]\u001b[0m    Checking Ouput format...\n",
      "\u001b[0;32m[INFO]\u001b[0m    Done...\n",
      "\u001b[1;35m/********************   MC/DC Simulation Info:   *************************/\u001b[0m\n",
      "\u001b[0;32m[INFO]   \u001b[0m Software Version:      -------------------------------1.42.14_wf\n",
      "\u001b[0;32m[INFO]   \u001b[0m Number of particles:   ----------------------------------------1\n",
      "\u001b[0;32m[INFO]   \u001b[0m Number of steps:       ----------------------------------------1\n",
      "\u001b[0;32m[INFO]   \u001b[0m Number of cores:       ---------------------------------------12\n",
      "\u001b[0;32m[INFO]   \u001b[0m Diffusivity:           ------------------------0.000001e-9 m^2/s\n",
      "\u001b[0;32m[INFO]   \u001b[0m Particle dynamics duration: ------------------------ 0.010000 ms\n",
      "\u001b[0;32m[INFO]   \u001b[0m PLY obstacles:         ----------------------------------- false\n",
      "\u001b[0;32m[INFO]   \u001b[0m Cylinder obstacles:    ----------------------------------- false\n",
      "\u001b[0;32m[INFO]   \u001b[0m Gamma Configuration:   -------------------------------------true\n",
      "\u001b[0;32m[INFO]   \u001b[0m Write trajfile:        ----------------------------------- false\n",
      "\u001b[0;32m[INFO]   \u001b[0m Write to binary:       ------------------------------------ true\n",
      "\u001b[0;32m[INFO]   \u001b[0m Write to txt:          ----------------------------------- false\n",
      "\u001b[0;32m[INFO]   \u001b[0m Standard units:        ------------------------------------ true\n",
      "\u001b[0;32m[INFO]   \u001b[0m Permeability:          ----------------------------------- false\n",
      "\u001b[0;32m[INFO]   \u001b[0m Custom seed:           ----------------------------------- false\n",
      "\u001b[0;32m[INFO]   \u001b[0m Write phase shift histogram: ----------------------------- false\n",
      "\u001b[0;32m[INFO]   \u001b[0m Write propagator file: ----------------------------------- false\n",
      "\u001b[0;32m[INFO]   \u001b[0m Walker initial position file: ---------------------------- false\n",
      "\u001b[0;32m[INFO]   \u001b[0m Save fixed walker positions: ----------------------------- false\n",
      "\u001b[0;32m[INFO]   \u001b[0m Initial delta position: ---------------------------------- false\n",
      "\u001b[0;32m[INFO]   \u001b[0m Number of voxels:      --------------------------------------- 0\n",
      "\u001b[0;32m[INFO]   \u001b[0m Border Patrol          -------------------------------------- On\n",
      "\u001b[0;32m[INFO]   \u001b[0m Discard stuck spins    -------------------------------------- On\n",
      "\u001b[0;32m[INFO]   \u001b[0m Scheme file name:      ---------------------------- dummy.scheme\n",
      "\u001b[0;32m[INFO]   \u001b[0m Date and Time:         ------------------- 21-07-2024 (21:10:22)\n",
      "\n",
      "\u001b[0;32m[INFO]\u001b[0m    Initialializing Gamma distribution (4.000000,0.225000).\n",
      "\n",
      "\u001b[0;32m[INFO]\u001b[0m    0-1: *****************************************************************\n",
      "\u001b[0;32m[INFO]\u001b[0m    1-2: ********************************\n",
      "\u001b[0;32m[INFO]\u001b[0m    2-3: **\n",
      "\u001b[0;32m[INFO]\u001b[0m    3-4: \n",
      "\u001b[0;32m[INFO]\u001b[0m    4-5: \n",
      "\u001b[0;32m[INFO]\u001b[0m    5-6: \n",
      "\u001b[0;32m[INFO]\u001b[0m    6-7: \n",
      "\u001b[0;32m[INFO]\u001b[0m    7-8: \n",
      "\u001b[0;32m[INFO]\u001b[0m    8-9: \n",
      "\u001b[0;32m[INFO]\u001b[0m    9-10:\n",
      "\u001b[0;32m[INFO]\u001b[0m    >10: \n",
      "\n",
      "0.769599\n",
      "0.772971\n",
      "0.778957\n",
      "0.779828\n",
      "0.779828\n"
     ]
    },
    {
     "name": "stderr",
     "output_type": "stream",
     "text": [
      "100%|██████████| 2/2 [00:04<00:00,  2.20s/it]"
     ]
    },
    {
     "name": "stdout",
     "output_type": "stream",
     "text": [
      "0.780799\n",
      "Percentage of cylinders selected: 85.000000%,\n",
      "ICVF achieved: 78.079880  (97% of the desired icvf)\n",
      "\n",
      "\u001b[0;32m[INFO]\u001b[0m    Done.\n",
      "\n",
      "\u001b[0;32m[INFO]\u001b[0m     Sim: 0 Initialized\n",
      "\u001b[0;32m[INFO]\u001b[0m     Sim: 1 Initialized\n",
      "\u001b[0;32m[INFO]\u001b[0m     Sim: 2 Initialized\n",
      "\u001b[0;32m[INFO]\u001b[0m     Sim: 3 Initialized\n",
      "\u001b[0;32m[INFO]\u001b[0m     Sim: 4 Initialized\n",
      "\u001b[0;32m[INFO]\u001b[0m     Sim: 5 Initialized\n",
      "\u001b[0;32m[INFO]\u001b[0m     Sim: 6 Initialized\n",
      "\u001b[0;32m[INFO]\u001b[0m     Sim: 7 Initialized\n",
      "\u001b[0;32m[INFO]\u001b[0m     Sim: 8 Initialized\n",
      "\u001b[0;32m[INFO]\u001b[0m     Sim: 9 Initialized\n",
      "\u001b[0;32m[INFO]\u001b[0m     Sim: 10 Initialized\n",
      "\u001b[0;32m[INFO]\u001b[0m     Sim: 11 Initialized\n",
      "\u001b[1;35m/********************   MC/DC Simulation START:  *************************/\u001b[0m\n",
      "\u001b[0;32m[INFO]\u001b[0m     Sim: 1 Simulation ended after: 0 seconds seconds\n",
      "\u001b[0;32m[INFO]\u001b[0m     Sim: 0 Simulation ended after: 0 seconds seconds\n",
      "\u001b[0;32m[INFO]\u001b[0m     Sim: 3 Simulation ended after: 0 seconds seconds\n",
      "\u001b[0;32m[INFO]\u001b[0m     Sim: 9 Simulation ended after: 0 seconds seconds\n",
      "\u001b[0;32m[INFO]\u001b[0m     Sim: 4 Simulation ended after: 0 seconds seconds\n",
      "\u001b[0;32m[INFO]\u001b[0m     Sim: 2 Simulation ended after: 0 seconds seconds\n",
      "\u001b[0;32m[INFO]\u001b[0m    [Completed: 0%] [ETA: Unknown] ( ? steps/second)\u001b[0;32m[INFO]\u001b[0m     Sim: 11 Simulation ended after: 0 seconds seconds\n",
      "\u001b[0;32m[INFO]\u001b[0m     Sim: 7 Simulation ended after: 0 seconds seconds\n",
      "\u001b[0;32m[INFO]\u001b[0m     Sim: 6 Simulation ended after: 0 seconds seconds\n",
      "\u001b[0;32m[INFO]\u001b[0m     Sim: 8 Simulation ended after: 0 seconds seconds\n",
      "\u001b[0;32m[INFO]\u001b[0m     Sim: 5 Simulation ended after: 0 seconds seconds\n",
      "\u001b[0;32m[INFO]\u001b[0m     Sim: 10 Simulation ended after: 0 seconds seconds\n",
      "\u001b[0;32m[INFO]\u001b[0m     All 12 simulations ended after: 0 seconds in average\n",
      "\u001b[0;32m[INFO]\u001b[0m     Joining resulting data... \n",
      "\u001b[0;32m[INFO]\u001b[0m     Done.\n"
     ]
    },
    {
     "name": "stderr",
     "output_type": "stream",
     "text": [
      "\n"
     ]
    },
    {
     "name": "stdout",
     "output_type": "stream",
     "text": [
      "[LOG] Cleaning up...\n"
     ]
    }
   ],
   "source": [
    "paths_config_files = config_utils.generate_config_files(\n",
    "    path_output,\n",
    "    parameters[\"alphas\"], \n",
    "    parameters[\"betas\"], \n",
    "    parameters[\"targetFVFs\"], \n",
    "    parameters[\"targetAxonCount\"], \n",
    "    parameters[\"nRepetitions\"],\n",
    "    parameters[\"fibers\"],\n",
    "    parameters[\"ellipsoidDensityScalers\"][0],\n",
    "    parameters[\"growSpeeds\"][0], \n",
    "    parameters[\"contractSpeed\"], \n",
    "    parameters[\"minimumDistance\"],\n",
    "    parameters[\"mapFromDiameterToDeformationFactor\"], \n",
    "    parameters[\"mapFromMaxDiameterToMinDiameter\"],\n",
    "    color_mode=\"random\",\n",
    "    mode_fiber=parameters[\"fiberMode\"],\n",
    ")"
   ]
  },
  {
   "cell_type": "markdown",
   "metadata": {},
   "source": [
    "#### GENERATE COPIES OF THE ABOVE CONFIG-FILES AND ADD CELLS"
   ]
  },
  {
   "cell_type": "code",
   "execution_count": 7,
   "metadata": {},
   "outputs": [],
   "source": [
    "paths_config_files_with_cells = []\n",
    "\n",
    "for path_config_oi in paths_config_files:\n",
    "\n",
    "    path_config_oi_with_cells = config_utils.add_cells_to_config(\n",
    "        path_config_oi, \n",
    "        parameters[\"targetCVF\"],\n",
    "        parameters[\"l1_mean\"], \n",
    "        parameters[\"l1_std\"], \n",
    "        parameters[\"l2_mean\"], \n",
    "        parameters[\"l2_std\"],\n",
    "        parameters[\"rotationLim\"]\n",
    "    )\n",
    "\n",
    "    paths_config_files_with_cells.append(path_config_oi_with_cells)\n",
    "\n",
    "paths_config_files += paths_config_files_with_cells"
   ]
  },
  {
   "cell_type": "markdown",
   "metadata": {},
   "source": [
    "# GENERATE PHANTOMS BASED ON THE CONFIG-FILES"
   ]
  },
  {
   "cell_type": "code",
   "execution_count": 8,
   "metadata": {},
   "outputs": [
    {
     "name": "stdout",
     "output_type": "stream",
     "text": [
      "path_config:  ../output/cylinders-alpha=4.0-beta=0.225-targetFVF=0.8-num_cylinders=80-mode_fiber=sheets-fiber0-frac=1.0-orientation=[0,0,1]-epsilon=0.0/rep_00-stage=0-with_cells.json\n",
      "[LOG] counter =  0\n",
      "Iterations            Axon volume fraction  Cell volume fraction  Total volume fraction Time                  \n",
      "1 / 5                 0.42                  0.20                  0.62 / 0.8            Sun, 21 Jul 2024 19:10:49 GMT\n",
      "2 / 5                 0.45                  0.20                  0.65 / 0.8            Sun, 21 Jul 2024 19:10:52 GMT\n",
      "3 / 5                 0.47                  0.20                  0.66 / 0.8            Sun, 21 Jul 2024 19:10:54 GMT\n",
      "4 / 5                 0.48                  0.20                  0.67 / 0.8            Sun, 21 Jul 2024 19:10:57 GMT\n",
      "5 / 5                 0.49                  0.20                  0.69 / 0.8            Sun, 21 Jul 2024 19:11:00 GMT\n",
      "Number of max iterations reached\n",
      "time consumption: 15.11 s\n",
      "[LOG] counter =  1\n",
      "ellipsoidDensityScaler 0.5\n",
      "Iterations            Axon volume fraction  Cell volume fraction  Total volume fraction Time                  \n",
      "1 / 7                 0.49                  0.20                  0.69 / 0.8            Sun, 21 Jul 2024 19:11:03 GMT\n",
      "2 / 7                 0.49                  0.20                  0.69 / 0.8            Sun, 21 Jul 2024 19:11:06 GMT\n",
      "3 / 7                 0.49                  0.20                  0.69 / 0.8            Sun, 21 Jul 2024 19:11:08 GMT\n",
      "4 / 7                 0.50                  0.20                  0.70 / 0.8            Sun, 21 Jul 2024 19:11:10 GMT\n",
      "5 / 7                 0.50                  0.20                  0.70 / 0.8            Sun, 21 Jul 2024 19:11:12 GMT\n",
      "6 / 7                 0.50                  0.20                  0.70 / 0.8            Sun, 21 Jul 2024 19:11:14 GMT\n",
      "7 / 7                 0.51                  0.20                  0.70 / 0.8            Sun, 21 Jul 2024 19:11:17 GMT\n",
      "Number of max iterations reached\n",
      "time consumption: 16.53 s\n",
      "[LOG] counter =  2\n",
      "ellipsoidDensityScaler 0.25\n",
      "Iterations            Axon volume fraction  Cell volume fraction  Total volume fraction Time                  \n",
      "1 / 4                 0.54                  0.20                  0.74 / 0.8            Sun, 21 Jul 2024 19:11:26 GMT\n",
      "2 / 4                 0.55                  0.20                  0.74 / 0.8            Sun, 21 Jul 2024 19:11:34 GMT\n",
      "3 / 4                 0.55                  0.20                  0.75 / 0.8            Sun, 21 Jul 2024 19:11:43 GMT\n",
      "4 / 4                 0.55                  0.20                  0.75 / 0.8            Sun, 21 Jul 2024 19:11:51 GMT\n",
      "Number of max iterations reached\n",
      "time consumption: 35.06 s\n",
      "[LOG] counter =  3\n",
      "ellipsoidDensityScaler 0.2\n",
      "Iterations            Axon volume fraction  Cell volume fraction  Total volume fraction Time                  \n",
      "1 / 2                 0.56                  0.20                  0.75 / 0.8            Sun, 21 Jul 2024 19:12:05 GMT\n",
      "2 / 2                 0.56                  0.20                  0.76 / 0.8            Sun, 21 Jul 2024 19:12:17 GMT\n",
      "Number of max iterations reached\n",
      "time consumption: 26.56 s\n",
      "path_config:  ../output/cylinders-alpha=4.0-beta=0.225-targetFVF=0.8-num_cylinders=80-mode_fiber=sheets-fiber0-frac=1.0-orientation=[0,0,1]-epsilon=0.0/rep_01-stage=0-with_cells.json\n",
      "[LOG] counter =  0\n",
      "Iterations            Axon volume fraction  Cell volume fraction  Total volume fraction Time                  \n",
      "1 / 5                 0.46                  0.06                  0.52 / 0.8            Sun, 21 Jul 2024 19:12:21 GMT\n",
      "2 / 5                 0.50                  0.06                  0.55 / 0.8            Sun, 21 Jul 2024 19:12:22 GMT\n",
      "3 / 5                 0.52                  0.06                  0.58 / 0.8            Sun, 21 Jul 2024 19:12:24 GMT\n",
      "4 / 5                 0.54                  0.06                  0.60 / 0.8            Sun, 21 Jul 2024 19:12:26 GMT\n",
      "5 / 5                 0.56                  0.06                  0.62 / 0.8            Sun, 21 Jul 2024 19:12:28 GMT\n",
      "Number of max iterations reached\n",
      "time consumption: 9.50 s\n",
      "[LOG] counter =  1\n",
      "ellipsoidDensityScaler 0.5\n",
      "Iterations            Axon volume fraction  Cell volume fraction  Total volume fraction Time                  \n",
      "1 / 7                 0.57                  0.06                  0.63 / 0.8            Sun, 21 Jul 2024 19:12:31 GMT\n",
      "2 / 7                 0.58                  0.06                  0.64 / 0.8            Sun, 21 Jul 2024 19:12:33 GMT\n",
      "3 / 7                 0.59                  0.06                  0.65 / 0.8            Sun, 21 Jul 2024 19:12:35 GMT\n",
      "4 / 7                 0.60                  0.06                  0.66 / 0.8            Sun, 21 Jul 2024 19:12:37 GMT\n",
      "5 / 7                 0.61                  0.06                  0.67 / 0.8            Sun, 21 Jul 2024 19:12:38 GMT\n",
      "6 / 7                 0.62                  0.06                  0.68 / 0.8            Sun, 21 Jul 2024 19:12:40 GMT\n",
      "7 / 7                 0.63                  0.06                  0.69 / 0.8            Sun, 21 Jul 2024 19:12:42 GMT\n",
      "Number of max iterations reached\n",
      "time consumption: 13.28 s\n",
      "[LOG] counter =  2\n",
      "ellipsoidDensityScaler 0.25\n",
      "Iterations            Axon volume fraction  Cell volume fraction  Total volume fraction Time                  \n",
      "1 / 4                 0.70                  0.06                  0.76 / 0.8            Sun, 21 Jul 2024 19:12:52 GMT\n"
     ]
    }
   ],
   "source": [
    "for path_config in paths_config_files[2:]:\n",
    "\n",
    "    targetFVF = float(path_config.split('targetFVF=')[-1].split('-')[0])\n",
    "\n",
    "    for counter, (eDS, mI, gS, oI) in enumerate(zip(\n",
    "        parameters[\"ellipsoidDensityScalers\"], \n",
    "        parameters[\"maxIterations\"], \n",
    "        parameters[\"growSpeeds\"],\n",
    "        parameters[\"outputIntervals\"],\n",
    "    )):\n",
    "        \n",
    "        print('[LOG] counter = ', counter)\n",
    "\n",
    "        if counter > 0 :\n",
    "\n",
    "            path_config_out_prev = os.path.join(path_output, np.sort([n for n in os.listdir(path_output) if ('.json' in n) and ('config_output' in n)])[-1])\n",
    "\n",
    "            path_config_new = path_config.replace(f'stage={counter-1}', f'stage={counter}')\n",
    "\n",
    "            print('ellipsoidDensityScaler', eDS)\n",
    "            mapFromMaxDiameterToEllipsoidSeparation = {'from': [1.0, 2.0],\n",
    "                                                       'to': [1.0*eDS, 2.0*eDS],}\n",
    "            config_utils.edit_config_file(path_config_out_prev, path_config_new, 'mapFromMaxDiameterToEllipsoidSeparation', mapFromMaxDiameterToEllipsoidSeparation)\n",
    "            config_utils.edit_config_file(path_config_new, path_config_new, 'growSpeed', gS)\n",
    "\n",
    "            path_config = path_config_new\n",
    "\n",
    "        time0 = time.time()\n",
    "\n",
    "        path_output = path_config.replace('.json', '_output')\n",
    "\n",
    "        os.system(\n",
    "            f\"white-matter-generator -f {path_config} -i {mI} -o {oI}\" +\\\n",
    "            f\" -v {targetFVF} -d {path_output} -r {parameters['outputResolution']} -b {parameters['outputBinary']}\" +\\\n",
    "            f\" -s {parameters['outputSimpleMesh']} -x {parameters['extendAxons']} -e {parameters['exportAs']} -w {parameters['maxIterationsWithoutImprovement']}\"\n",
    "        )\n",
    "\n",
    "        print('time consumption: %.2f s' %(time.time() - time0))"
   ]
  },
  {
   "cell_type": "code",
   "execution_count": null,
   "metadata": {},
   "outputs": [],
   "source": []
  }
 ],
 "metadata": {
  "kernelspec": {
   "display_name": "Python 3 (ipykernel)",
   "language": "python",
   "name": "python3"
  },
  "language_info": {
   "codemirror_mode": {
    "name": "ipython",
    "version": 3
   },
   "file_extension": ".py",
   "mimetype": "text/x-python",
   "name": "python",
   "nbconvert_exporter": "python",
   "pygments_lexer": "ipython3",
   "version": "3.10.12"
  }
 },
 "nbformat": 4,
 "nbformat_minor": 4
}
