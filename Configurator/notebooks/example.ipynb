{
 "cells": [
  {
   "cell_type": "code",
   "execution_count": 1,
   "metadata": {},
   "outputs": [],
   "source": [
    "%load_ext autoreload\n",
    "%autoreload 2"
   ]
  },
  {
   "cell_type": "code",
   "execution_count": 2,
   "metadata": {},
   "outputs": [
    {
     "name": "stderr",
     "output_type": "stream",
     "text": [
      "/home/siwin/code/WhiteMatterGenerator/Configurator/.venv/lib/python3.10/site-packages/tqdm/auto.py:21: TqdmWarning: IProgress not found. Please update jupyter and ipywidgets. See https://ipywidgets.readthedocs.io/en/stable/user_install.html\n",
      "  from .autonotebook import tqdm as notebook_tqdm\n"
     ]
    }
   ],
   "source": [
    "import os\n",
    "import sys\n",
    "import numpy as np\n",
    "import time\n",
    "import json5 as json\n",
    "\n",
    "sys.path.append('../')\n",
    "from src import utils"
   ]
  },
  {
   "cell_type": "markdown",
   "metadata": {},
   "source": [
    "# SET PATHS"
   ]
  },
  {
   "cell_type": "code",
   "execution_count": 3,
   "metadata": {},
   "outputs": [],
   "source": [
    "# path_output = '../output'\n",
    "path_parameter_config = '../configs/example.conf'\n",
    "\n",
    "path_project = '../'\n",
    "path_output = os.path.join(path_project, 'output')"
   ]
  },
  {
   "cell_type": "markdown",
   "metadata": {},
   "source": [
    "# LOAD PARAMETERS"
   ]
  },
  {
   "cell_type": "code",
   "execution_count": 4,
   "metadata": {},
   "outputs": [
    {
     "data": {
      "text/plain": [
       "{'targetFVFs': [0.8],\n",
       " 'growSpeeds': [0.02, 0.01, 0.01, 0.01],\n",
       " 'contractSpeed': 0.1,\n",
       " 'maxIterations': [5, 7, 4, 2],\n",
       " 'maxIterationsWithoutImprovement': 100,\n",
       " 'outputIntervals': [4, 6, 3, 1],\n",
       " 'ellipsoidDensityScalers': [0.5, 0.5, 0.25, 0.2],\n",
       " 'outputResolution': 16,\n",
       " 'outputBinary': 'false',\n",
       " 'outputSimpleMesh': 'true',\n",
       " 'extendAxons': 'false',\n",
       " 'exportAs': 'multiple',\n",
       " 'nRepetitions': 2,\n",
       " 'minimumDistance': 0.07,\n",
       " 'targetAxonCount': [80],\n",
       " 'alphas': [4.0],\n",
       " 'betas': [0.225],\n",
       " 'mapFromMaxDiameterToMinDiameter': {'from': [1.25, 2.25], 'to': [0.5, 1.0]},\n",
       " 'mapFromDiameterToDeformationFactor': {'from': [0.1, 1.0],\n",
       "  'to': [0.66, 0.66]},\n",
       " 'fiberMode': 'sheets',\n",
       " 'fibers': {'fiber0': {'frac': 1.0, 'orientation': [0, 0, 1], 'epsilon': 0.0}},\n",
       " 'targetCVF': 0.05,\n",
       " 'l1_mean': 13.0,\n",
       " 'l1_std': 2.0,\n",
       " 'l2_mean': 5.0,\n",
       " 'l2_std': 1.0,\n",
       " 'rotationLim': 23}"
      ]
     },
     "execution_count": 4,
     "metadata": {},
     "output_type": "execute_result"
    }
   ],
   "source": [
    "with open(path_parameter_config, 'r') as file:\n",
    "\n",
    "    parameters = json.load(file)\n",
    "\n",
    "parameters"
   ]
  },
  {
   "cell_type": "markdown",
   "metadata": {},
   "source": [
    "# GENERATE INITIAL CONFIG-FILES"
   ]
  },
  {
   "cell_type": "code",
   "execution_count": 5,
   "metadata": {},
   "outputs": [
    {
     "name": "stdout",
     "output_type": "stream",
     "text": [
      "[LOG] Generating 2 substrate(s) under the name: cylinders-alpha=4.0-beta=0.225-targetFVF=0.8-num_cylinders=80-mode_fiber=sheets-fiber0-frac=1.0-orientation=[0,0,1]-epsilon=0.0\n",
      "\n"
     ]
    },
    {
     "name": "stderr",
     "output_type": "stream",
     "text": [
      "  0%|          | 0/2 [00:00<?, ?it/s]"
     ]
    },
    {
     "name": "stdout",
     "output_type": "stream",
     "text": [
      "\u001b[1;35m/*************************************  MCDC.conf ************************/\n",
      "\u001b[0m\u001b[0;32m[INFO]\u001b[0m    Checking configuration file labels...\n",
      "\u001b[0;32m[INFO]\u001b[0m    Done...\n",
      "\u001b[1;43m[Warning]\u001b[0m Parameter: 0 Unknown\n",
      "\u001b[1;35m/***************   MC/DC Simulation parameters check out:  ***************/\u001b[0m\n",
      "\u001b[1;43m[Warning]\u001b[0m The number of processors to be used (12) is higher than the physical available processors (8).\n",
      "\u001b[0;32m[INFO]\u001b[0m    Checking Sequence Scheme file format...\n",
      "\u001b[0;32m[INFO]\u001b[0m    Done...\n",
      "\u001b[0;32m[INFO]\u001b[0m    Checking Ouput format...\n",
      "\u001b[0;32m[INFO]\u001b[0m    Done...\n",
      "\u001b[1;35m/********************   MC/DC Simulation Info:   *************************/\u001b[0m\n",
      "\u001b[0;32m[INFO]   \u001b[0m Software Version:      -------------------------------1.42.14_wf\n",
      "\u001b[0;32m[INFO]   \u001b[0m Number of particles:   ----------------------------------------1\n",
      "\u001b[0;32m[INFO]   \u001b[0m Number of steps:       ----------------------------------------1\n",
      "\u001b[0;32m[INFO]   \u001b[0m Number of cores:       ---------------------------------------12\n",
      "\u001b[0;32m[INFO]   \u001b[0m Diffusivity:           ------------------------0.000001e-9 m^2/s\n",
      "\u001b[0;32m[INFO]   \u001b[0m Particle dynamics duration: ------------------------ 0.010000 ms\n",
      "\u001b[0;32m[INFO]   \u001b[0m PLY obstacles:         ----------------------------------- false\n",
      "\u001b[0;32m[INFO]   \u001b[0m Cylinder obstacles:    ----------------------------------- false\n",
      "\u001b[0;32m[INFO]   \u001b[0m Gamma Configuration:   -------------------------------------true\n",
      "\u001b[0;32m[INFO]   \u001b[0m Write trajfile:        ----------------------------------- false\n",
      "\u001b[0;32m[INFO]   \u001b[0m Write to binary:       ------------------------------------ true\n",
      "\u001b[0;32m[INFO]   \u001b[0m Write to txt:          ----------------------------------- false\n",
      "\u001b[0;32m[INFO]   \u001b[0m Standard units:        ------------------------------------ true\n",
      "\u001b[0;32m[INFO]   \u001b[0m Permeability:          ----------------------------------- false\n",
      "\u001b[0;32m[INFO]   \u001b[0m Custom seed:           ----------------------------------- false\n",
      "\u001b[0;32m[INFO]   \u001b[0m Write phase shift histogram: ----------------------------- false\n",
      "\u001b[0;32m[INFO]   \u001b[0m Write propagator file: ----------------------------------- false\n",
      "\u001b[0;32m[INFO]   \u001b[0m Walker initial position file: ---------------------------- false\n",
      "\u001b[0;32m[INFO]   \u001b[0m Save fixed walker positions: ----------------------------- false\n",
      "\u001b[0;32m[INFO]   \u001b[0m Initial delta position: ---------------------------------- false\n",
      "\u001b[0;32m[INFO]   \u001b[0m Number of voxels:      --------------------------------------- 0\n",
      "\u001b[0;32m[INFO]   \u001b[0m Border Patrol          -------------------------------------- On\n",
      "\u001b[0;32m[INFO]   \u001b[0m Discard stuck spins    -------------------------------------- On\n",
      "\u001b[0;32m[INFO]   \u001b[0m Scheme file name:      ---------------------------- dummy.scheme\n",
      "\u001b[0;32m[INFO]   \u001b[0m Date and Time:         ------------------- 01-07-2024 (23:19:25)\n",
      "\n",
      "\u001b[0;32m[INFO]\u001b[0m    Initialializing Gamma distribution (4.000000,0.225000).\n",
      "\n",
      "\u001b[0;32m[INFO]\u001b[0m    0-1: ****************************************************************\n",
      "\u001b[0;32m[INFO]\u001b[0m    1-2: ********************************\n",
      "\u001b[0;32m[INFO]\u001b[0m    2-3: **\n",
      "\u001b[0;32m[INFO]\u001b[0m    3-4: \n",
      "\u001b[0;32m[INFO]\u001b[0m    4-5: \n",
      "\u001b[0;32m[INFO]\u001b[0m    5-6: \n",
      "\u001b[0;32m[INFO]\u001b[0m    6-7: \n",
      "\u001b[0;32m[INFO]\u001b[0m    7-8: \n",
      "\u001b[0;32m[INFO]\u001b[0m    8-9: \n",
      "\u001b[0;32m[INFO]\u001b[0m    9-10:\n",
      "\u001b[0;32m[INFO]\u001b[0m    >10: \n",
      "\n",
      "0.745075\n",
      "0.745075\n",
      "0.755098\n",
      "0.758992\n",
      "0.758992\n"
     ]
    },
    {
     "name": "stderr",
     "output_type": "stream",
     "text": [
      " 50%|█████     | 1/2 [00:02<00:02,  2.79s/it]"
     ]
    },
    {
     "name": "stdout",
     "output_type": "stream",
     "text": [
      "0.758992\n",
      "Percentage of cylinders selected: 85.000000%,\n",
      "ICVF achieved: 75.899215  (94% of the desired icvf)\n",
      "\n",
      "\u001b[0;32m[INFO]\u001b[0m    Done.\n",
      "\n",
      "\u001b[0;32m[INFO]\u001b[0m     Sim: 0 Initialized\n",
      "\u001b[0;32m[INFO]\u001b[0m     Sim: 1 Initialized\n",
      "\u001b[0;32m[INFO]\u001b[0m     Sim: 2 Initialized\n",
      "\u001b[0;32m[INFO]\u001b[0m     Sim: 3 Initialized\n",
      "\u001b[0;32m[INFO]\u001b[0m     Sim: 4 Initialized\n",
      "\u001b[0;32m[INFO]\u001b[0m     Sim: 5 Initialized\n",
      "\u001b[0;32m[INFO]\u001b[0m     Sim: 6 Initialized\n",
      "\u001b[0;32m[INFO]\u001b[0m     Sim: 7 Initialized\n",
      "\u001b[0;32m[INFO]\u001b[0m     Sim: 8 Initialized\n",
      "\u001b[0;32m[INFO]\u001b[0m     Sim: 9 Initialized\n",
      "\u001b[0;32m[INFO]\u001b[0m     Sim: 10 Initialized\n",
      "\u001b[0;32m[INFO]\u001b[0m     Sim: 11 Initialized\n",
      "\u001b[1;35m/********************   MC/DC Simulation START:  *************************/\u001b[0m\n",
      "\u001b[0;32m[INFO]\u001b[0m     Sim: 1 Simulation ended after: 0 seconds seconds\n",
      "\u001b[0;32m[INFO]\u001b[0m     Sim: 0 Simulation ended after: 0 seconds seconds\n",
      "\u001b[0;32m[INFO]\u001b[0m     Sim: 4 Simulation ended after: 0 seconds seconds\n",
      "\u001b[0;32m[INFO]\u001b[0m     Sim: 5 Simulation ended after: 0 seconds seconds\n",
      "\u001b[0;32m[INFO]\u001b[0m     Sim: 2 Simulation ended after: 0 seconds seconds\n",
      "\u001b[0;32m[INFO]\u001b[0m     Sim: 3 Simulation ended after: 0 seconds seconds\n",
      "\u001b[0;32m[INFO]\u001b[0m     Sim: 6 Simulation ended after: 0 seconds seconds\n",
      "\u001b[0;32m[INFO]\u001b[0m     Sim: 7 Simulation ended after: 0 seconds seconds\n",
      "\u001b[0;32m[INFO]\u001b[0m     Sim: 9 Simulation ended after: 0 seconds seconds\n",
      "\u001b[0;32m[INFO]\u001b[0m     Sim: 10 Simulation ended after: 0 seconds seconds\n",
      "\u001b[0;32m[INFO]\u001b[0m    [Completed: 0%] [ETA: Unknown] ( ? steps/second)\u001b[0;32m[INFO]\u001b[0m     Sim: 11 Simulation ended after: 0 seconds seconds\n",
      "\u001b[0;32m[INFO]\u001b[0m     Sim: 8 Simulation ended after: 0 seconds seconds\n",
      "\u001b[0;32m[INFO]\u001b[0m     All 12 simulations ended after: 0 seconds in average\n",
      "\u001b[0;32m[INFO]\u001b[0m     Joining resulting data... \n",
      "\u001b[0;32m[INFO]\u001b[0m     Done.\n",
      "\u001b[1;35m/*************************************  MCDC.conf ************************/\n",
      "\u001b[0m\u001b[0;32m[INFO]\u001b[0m    Checking configuration file labels...\n",
      "\u001b[0;32m[INFO]\u001b[0m    Done...\n",
      "\u001b[1;43m[Warning]\u001b[0m Parameter: 0 Unknown\n",
      "\u001b[1;35m/***************   MC/DC Simulation parameters check out:  ***************/\u001b[0m\n",
      "\u001b[1;43m[Warning]\u001b[0m The number of processors to be used (12) is higher than the physical available processors (8).\n",
      "\u001b[0;32m[INFO]\u001b[0m    Checking Sequence Scheme file format...\n",
      "\u001b[0;32m[INFO]\u001b[0m    Done...\n",
      "\u001b[0;32m[INFO]\u001b[0m    Checking Ouput format...\n",
      "\u001b[0;32m[INFO]\u001b[0m    Done...\n",
      "\u001b[1;35m/********************   MC/DC Simulation Info:   *************************/\u001b[0m\n",
      "\u001b[0;32m[INFO]   \u001b[0m Software Version:      -------------------------------1.42.14_wf\n",
      "\u001b[0;32m[INFO]   \u001b[0m Number of particles:   ----------------------------------------1\n",
      "\u001b[0;32m[INFO]   \u001b[0m Number of steps:       ----------------------------------------1\n",
      "\u001b[0;32m[INFO]   \u001b[0m Number of cores:       ---------------------------------------12\n",
      "\u001b[0;32m[INFO]   \u001b[0m Diffusivity:           ------------------------0.000001e-9 m^2/s\n",
      "\u001b[0;32m[INFO]   \u001b[0m Particle dynamics duration: ------------------------ 0.010000 ms\n",
      "\u001b[0;32m[INFO]   \u001b[0m PLY obstacles:         ----------------------------------- false\n",
      "\u001b[0;32m[INFO]   \u001b[0m Cylinder obstacles:    ----------------------------------- false\n",
      "\u001b[0;32m[INFO]   \u001b[0m Gamma Configuration:   -------------------------------------true\n",
      "\u001b[0;32m[INFO]   \u001b[0m Write trajfile:        ----------------------------------- false\n",
      "\u001b[0;32m[INFO]   \u001b[0m Write to binary:       ------------------------------------ true\n",
      "\u001b[0;32m[INFO]   \u001b[0m Write to txt:          ----------------------------------- false\n",
      "\u001b[0;32m[INFO]   \u001b[0m Standard units:        ------------------------------------ true\n",
      "\u001b[0;32m[INFO]   \u001b[0m Permeability:          ----------------------------------- false\n",
      "\u001b[0;32m[INFO]   \u001b[0m Custom seed:           ----------------------------------- false\n",
      "\u001b[0;32m[INFO]   \u001b[0m Write phase shift histogram: ----------------------------- false\n",
      "\u001b[0;32m[INFO]   \u001b[0m Write propagator file: ----------------------------------- false\n",
      "\u001b[0;32m[INFO]   \u001b[0m Walker initial position file: ---------------------------- false\n",
      "\u001b[0;32m[INFO]   \u001b[0m Save fixed walker positions: ----------------------------- false\n",
      "\u001b[0;32m[INFO]   \u001b[0m Initial delta position: ---------------------------------- false\n",
      "\u001b[0;32m[INFO]   \u001b[0m Number of voxels:      --------------------------------------- 0\n",
      "\u001b[0;32m[INFO]   \u001b[0m Border Patrol          -------------------------------------- On\n",
      "\u001b[0;32m[INFO]   \u001b[0m Discard stuck spins    -------------------------------------- On\n",
      "\u001b[0;32m[INFO]   \u001b[0m Scheme file name:      ---------------------------- dummy.scheme\n",
      "\u001b[0;32m[INFO]   \u001b[0m Date and Time:         ------------------- 01-07-2024 (23:19:28)\n",
      "\n",
      "\u001b[0;32m[INFO]\u001b[0m    Initialializing Gamma distribution (4.000000,0.225000).\n",
      "\n",
      "\u001b[0;32m[INFO]\u001b[0m    0-1: *****************************************************************\n",
      "\u001b[0;32m[INFO]\u001b[0m    1-2: ********************************\n",
      "\u001b[0;32m[INFO]\u001b[0m    2-3: **\n",
      "\u001b[0;32m[INFO]\u001b[0m    3-4: \n",
      "\u001b[0;32m[INFO]\u001b[0m    4-5: \n",
      "\u001b[0;32m[INFO]\u001b[0m    5-6: \n",
      "\u001b[0;32m[INFO]\u001b[0m    6-7: \n",
      "\u001b[0;32m[INFO]\u001b[0m    7-8: \n",
      "\u001b[0;32m[INFO]\u001b[0m    8-9: \n",
      "\u001b[0;32m[INFO]\u001b[0m    9-10:\n",
      "\u001b[0;32m[INFO]\u001b[0m    >10: \n",
      "\n",
      "0.762824\n",
      "0.762824\n",
      "0.76656\n",
      "0.770814\n",
      "0.770814\n"
     ]
    },
    {
     "name": "stderr",
     "output_type": "stream",
     "text": [
      "100%|██████████| 2/2 [00:05<00:00,  2.61s/it]"
     ]
    },
    {
     "name": "stdout",
     "output_type": "stream",
     "text": [
      "0.77208\n",
      "Percentage of cylinders selected: 82.500000%,\n",
      "ICVF achieved: 77.207988  (96% of the desired icvf)\n",
      "\n",
      "\u001b[0;32m[INFO]\u001b[0m    Done.\n",
      "\n",
      "\u001b[0;32m[INFO]\u001b[0m     Sim: 0 Initialized\n",
      "\u001b[0;32m[INFO]\u001b[0m     Sim: 1 Initialized\n",
      "\u001b[0;32m[INFO]\u001b[0m     Sim: 2 Initialized\n",
      "\u001b[0;32m[INFO]\u001b[0m     Sim: 3 Initialized\n",
      "\u001b[0;32m[INFO]\u001b[0m     Sim: 4 Initialized\n",
      "\u001b[0;32m[INFO]\u001b[0m     Sim: 5 Initialized\n",
      "\u001b[0;32m[INFO]\u001b[0m     Sim: 6 Initialized\n",
      "\u001b[0;32m[INFO]\u001b[0m     Sim: 7 Initialized\n",
      "\u001b[0;32m[INFO]\u001b[0m     Sim: 8 Initialized\n",
      "\u001b[0;32m[INFO]\u001b[0m     Sim: 9 Initialized\n",
      "\u001b[0;32m[INFO]\u001b[0m     Sim: 10 Initialized\n",
      "\u001b[0;32m[INFO]\u001b[0m     Sim: 11 Initialized\n",
      "\u001b[1;35m/********************   MC/DC Simulation START:  *************************/\u001b[0m\n",
      "\u001b[0;32m[INFO]\u001b[0m     Sim: 0 Simulation ended after: 0 seconds seconds\n",
      "\u001b[0;32m[INFO]\u001b[0m     Sim: 2 Simulation ended after: 0 seconds seconds\n",
      "\u001b[0;32m[INFO]\u001b[0m     Sim: 3 Simulation ended after: 0 seconds seconds\n",
      "\u001b[0;32m[INFO]\u001b[0m     Sim: 4 Simulation ended after: 0 seconds seconds\n",
      "\u001b[0;32m[INFO]\u001b[0m     Sim: 5 Simulation ended after: 0 seconds seconds\n",
      "\u001b[0;32m[INFO]\u001b[0m     Sim: 1 Simulation ended after: 0 seconds seconds\n",
      "\u001b[0;32m[INFO]\u001b[0m     Sim: 7 Simulation ended after: 0 seconds seconds\n",
      "\u001b[0;32m[INFO]\u001b[0m     Sim: 6 Simulation ended after: 0 seconds seconds\n",
      "\u001b[0;32m[INFO]\u001b[0m     Sim: 8 Simulation ended after: 0 seconds seconds\n",
      "\u001b[0;32m[INFO]\u001b[0m     Sim: 9 Simulation ended after: 0 seconds seconds\n",
      "\u001b[0;32m[INFO]\u001b[0m     Sim: 10 Simulation ended after: 0 seconds seconds\n",
      "\u001b[0;32m[INFO]\u001b[0m    [Completed: 0%] [ETA: Unknown] ( ? steps/second)\u001b[0;32m[INFO]\u001b[0m     Sim: 11 Simulation ended after: 0 seconds seconds\n",
      "\u001b[0;32m[INFO]\u001b[0m     All 12 simulations ended after: 0 seconds in average\n",
      "\u001b[0;32m[INFO]\u001b[0m     Joining resulting data... \n",
      "\u001b[0;32m[INFO]\u001b[0m     Done.\n"
     ]
    },
    {
     "name": "stderr",
     "output_type": "stream",
     "text": [
      "\n"
     ]
    },
    {
     "name": "stdout",
     "output_type": "stream",
     "text": [
      "[LOG] Cleaning up...\n"
     ]
    }
   ],
   "source": [
    "paths_config_files = utils.generate_config_files(\n",
    "    path_output,\n",
    "    parameters[\"alphas\"], \n",
    "    parameters[\"betas\"], \n",
    "    parameters[\"targetFVFs\"], \n",
    "    parameters[\"targetAxonCount\"], \n",
    "    parameters[\"nRepetitions\"],\n",
    "    parameters[\"fibers\"],\n",
    "    parameters[\"ellipsoidDensityScalers\"][0],\n",
    "    parameters[\"growSpeeds\"][0], \n",
    "    parameters[\"contractSpeed\"], \n",
    "    parameters[\"minimumDistance\"],\n",
    "    parameters[\"mapFromDiameterToDeformationFactor\"], \n",
    "    parameters[\"mapFromMaxDiameterToMinDiameter\"],\n",
    "    color_mode='random',\n",
    "    mode_fiber=parameters[\"fiberMode\"],\n",
    ")"
   ]
  },
  {
   "cell_type": "code",
   "execution_count": null,
   "metadata": {},
   "outputs": [],
   "source": [
    "# #### GENERATE CELL-INCLUDING VERSIONS OF THOSE CONFIG-FILES ####################\n",
    "\n",
    "# paths_config_files_with_cells = []\n",
    "\n",
    "# for path_config_oi in paths_config_files:\n",
    "\n",
    "#     config_with_cells = cells.add_cells_to_config(path_config_oi, CVF_des,\n",
    "#                                                   l1_mean, l1_std, l2_mean, l2_std,\n",
    "#                                                   rotation_lim)\n",
    "\n",
    "#     path_config_oi_with_cells = path_config_oi.replace('.json', '-with_cells.json')\n",
    "\n",
    "#     paths_config_files_with_cells.append(path_config_oi_with_cells)\n",
    "\n",
    "#     with open(path_config_oi_with_cells, 'w') as f:\n",
    "#         f.write(json.dumps(config_with_cells))\n",
    "\n",
    "# paths_config_files += paths_config_files_with_cells"
   ]
  },
  {
   "cell_type": "markdown",
   "metadata": {},
   "source": [
    "# GENERATE SUBSTRATES"
   ]
  },
  {
   "cell_type": "code",
   "execution_count": 7,
   "metadata": {},
   "outputs": [
    {
     "name": "stdout",
     "output_type": "stream",
     "text": [
      "path_config:  ../output/cylinders-alpha=4.0-beta=0.225-targetFVF=0.8-num_cylinders=80-mode_fiber=sheets-fiber0-frac=1.0-orientation=[0,0,1]-epsilon=0.0/rep_00-stage=0.json\n",
      "counter:  0\n",
      "axon-generator-toolbox -f ../output/cylinders-alpha=4.0-beta=0.225-targetFVF=0.8-num_cylinders=80-mode_fiber=sheets-fiber0-frac=1.0-orientation=[0,0,1]-epsilon=0.0/rep_00-stage=0.json -i 5 -o 4 -v 0.8 -d ../output/cylinders-alpha=4.0-beta=0.225-targetFVF=0.8-num_cylinders=80-mode_fiber=sheets-fiber0-frac=1.0-orientation=[0,0,1]-epsilon=0.0/rep_00-stage=0_output -r 16 -b false -s true -x false -e multiple -w 100\n",
      "time consumption: 0.00 s\n",
      "counter:  1\n"
     ]
    },
    {
     "name": "stderr",
     "output_type": "stream",
     "text": [
      "sh: 1: axon-generator-toolbox: not found\n"
     ]
    },
    {
     "ename": "FileNotFoundError",
     "evalue": "[Errno 2] No such file or directory: '../output/cylinders-alpha=4.0-beta=0.225-targetFVF=0.8-num_cylinders=80-mode_fiber=sheets-fiber0-frac=1.0-orientation=[0,0,1]-epsilon=0.0/rep_00-stage=0_output'",
     "output_type": "error",
     "traceback": [
      "\u001b[0;31m---------------------------------------------------------------------------\u001b[0m",
      "\u001b[0;31mFileNotFoundError\u001b[0m                         Traceback (most recent call last)",
      "Cell \u001b[0;32mIn[7], line 18\u001b[0m\n\u001b[1;32m     14\u001b[0m \u001b[38;5;28mprint\u001b[39m(\u001b[38;5;124m'\u001b[39m\u001b[38;5;124mcounter: \u001b[39m\u001b[38;5;124m'\u001b[39m, counter)\n\u001b[1;32m     16\u001b[0m \u001b[38;5;28;01mif\u001b[39;00m counter \u001b[38;5;241m>\u001b[39m \u001b[38;5;241m0\u001b[39m :\n\u001b[0;32m---> 18\u001b[0m     path_config_out_prev \u001b[38;5;241m=\u001b[39m os\u001b[38;5;241m.\u001b[39mpath\u001b[38;5;241m.\u001b[39mjoin(path_output, np\u001b[38;5;241m.\u001b[39msort([n \u001b[38;5;28;01mfor\u001b[39;00m n \u001b[38;5;129;01min\u001b[39;00m \u001b[43mos\u001b[49m\u001b[38;5;241;43m.\u001b[39;49m\u001b[43mlistdir\u001b[49m\u001b[43m(\u001b[49m\u001b[43mpath_output\u001b[49m\u001b[43m)\u001b[49m \u001b[38;5;28;01mif\u001b[39;00m (\u001b[38;5;124m'\u001b[39m\u001b[38;5;124m.json\u001b[39m\u001b[38;5;124m'\u001b[39m \u001b[38;5;129;01min\u001b[39;00m n) \u001b[38;5;129;01mand\u001b[39;00m (\u001b[38;5;124m'\u001b[39m\u001b[38;5;124mconfig_output\u001b[39m\u001b[38;5;124m'\u001b[39m \u001b[38;5;129;01min\u001b[39;00m n)])[\u001b[38;5;241m-\u001b[39m\u001b[38;5;241m1\u001b[39m])\n\u001b[1;32m     20\u001b[0m     path_config_new \u001b[38;5;241m=\u001b[39m path_config\u001b[38;5;241m.\u001b[39mreplace(\u001b[38;5;124mf\u001b[39m\u001b[38;5;124m'\u001b[39m\u001b[38;5;124mstage=\u001b[39m\u001b[38;5;132;01m{\u001b[39;00mcounter\u001b[38;5;241m-\u001b[39m\u001b[38;5;241m1\u001b[39m\u001b[38;5;132;01m}\u001b[39;00m\u001b[38;5;124m'\u001b[39m, \u001b[38;5;124mf\u001b[39m\u001b[38;5;124m'\u001b[39m\u001b[38;5;124mstage=\u001b[39m\u001b[38;5;132;01m{\u001b[39;00mcounter\u001b[38;5;132;01m}\u001b[39;00m\u001b[38;5;124m'\u001b[39m)\n\u001b[1;32m     22\u001b[0m     \u001b[38;5;28mprint\u001b[39m(\u001b[38;5;124m'\u001b[39m\u001b[38;5;124mellipsoidDensityScaler\u001b[39m\u001b[38;5;124m'\u001b[39m, eDS)\n",
      "\u001b[0;31mFileNotFoundError\u001b[0m: [Errno 2] No such file or directory: '../output/cylinders-alpha=4.0-beta=0.225-targetFVF=0.8-num_cylinders=80-mode_fiber=sheets-fiber0-frac=1.0-orientation=[0,0,1]-epsilon=0.0/rep_00-stage=0_output'"
     ]
    }
   ],
   "source": [
    "for path_config in paths_config_files:\n",
    "\n",
    "    print('path_config: ', path_config)\n",
    "\n",
    "    targetFVF = float(path_config.split('targetFVF=')[-1].split('-')[0])\n",
    "\n",
    "    for counter, (eDS, mI, gS, oI) in enumerate(zip(\n",
    "        parameters[\"ellipsoidDensityScalers\"], \n",
    "        parameters[\"maxIterations\"], \n",
    "        parameters[\"growSpeeds\"],\n",
    "        parameters[\"outputIntervals\"],\n",
    "    )):\n",
    "        \n",
    "        print('counter: ', counter)\n",
    "\n",
    "        if counter > 0 :\n",
    "\n",
    "            path_config_out_prev = os.path.join(path_output, np.sort([n for n in os.listdir(path_output) if ('.json' in n) and ('config_output' in n)])[-1])\n",
    "\n",
    "            path_config_new = path_config.replace(f'stage={counter-1}', f'stage={counter}')\n",
    "\n",
    "            print('ellipsoidDensityScaler', eDS)\n",
    "            mapFromMaxDiameterToEllipsoidSeparation = {'from': [1.0, 2.0],\n",
    "                                                       'to': [1.0*eDS, 2.0*eDS],}\n",
    "            utils.edit_config_file(path_config_out_prev, path_config_new, 'mapFromMaxDiameterToEllipsoidSeparation', mapFromMaxDiameterToEllipsoidSeparation)\n",
    "            utils.edit_config_file(path_config_new, path_config_new, 'growSpeed', gS)\n",
    "\n",
    "            path_config = path_config_new\n",
    "\n",
    "        time0 = time.time()\n",
    "\n",
    "        path_output = path_config.replace('.json', '_output')\n",
    "\n",
    "        print(\n",
    "            f\"axon-generator-toolbox -f {path_config} -i {mI} -o {oI}\" +\\\n",
    "            f\" -v {targetFVF} -d {path_output} -r {parameters['outputResolution']} -b {parameters['outputBinary']}\" +\\\n",
    "            f\" -s {parameters['outputSimpleMesh']} -x {parameters['extendAxons']} -e {parameters['exportAs']} -w {parameters['maxIterationsWithoutImprovement']}\"\n",
    "        )\n",
    "\n",
    "        os.system(\n",
    "            f\"axon-generator-toolbox -f {path_config} -i {mI} -o {oI}\" +\\\n",
    "            f\" -v {targetFVF} -d {path_output} -r {parameters['outputResolution']} -b {parameters['outputBinary']}\" +\\\n",
    "            f\" -s {parameters['outputSimpleMesh']} -x {parameters['extendAxons']} -e {parameters['exportAs']} -w {parameters['maxIterationsWithoutImprovement']}\"\n",
    "        )\n",
    "\n",
    "        print('time consumption: %.2f s' %(time.time() - time0))"
   ]
  },
  {
   "cell_type": "code",
   "execution_count": 10,
   "metadata": {},
   "outputs": [
    {
     "data": {
      "text/plain": [
       "'../output/cylinders-alpha=4.0-beta=0.225-targetFVF=0.8-num_cylinders=50-mode_fiber=sheets-fiber0-frac=1.0-orientation=[0,0,1]-epsilon=0.0/rep_00-stage=0_output'"
      ]
     },
     "execution_count": 10,
     "metadata": {},
     "output_type": "execute_result"
    }
   ],
   "source": [
    "path_output"
   ]
  },
  {
   "cell_type": "code",
   "execution_count": null,
   "metadata": {},
   "outputs": [],
   "source": []
  },
  {
   "cell_type": "code",
   "execution_count": null,
   "metadata": {},
   "outputs": [],
   "source": []
  }
 ],
 "metadata": {
  "kernelspec": {
   "display_name": "Python 3 (ipykernel)",
   "language": "python",
   "name": "python3"
  },
  "language_info": {
   "codemirror_mode": {
    "name": "ipython",
    "version": 3
   },
   "file_extension": ".py",
   "mimetype": "text/x-python",
   "name": "python",
   "nbconvert_exporter": "python",
   "pygments_lexer": "ipython3",
   "version": "3.10.12"
  }
 },
 "nbformat": 4,
 "nbformat_minor": 4
}
